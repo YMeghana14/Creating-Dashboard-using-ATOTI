{
 "cells": [
  {
   "cell_type": "code",
   "execution_count": null,
   "metadata": {},
   "outputs": [],
   "source": [
    "pip install atoti[jupyterlab]"
   ]
  },
  {
   "cell_type": "code",
   "execution_count": 2,
   "metadata": {},
   "outputs": [],
   "source": [
    "import atoti as tt\n",
    "\n",
    "session = tt.create_session()  "
   ]
  },
  {
   "cell_type": "code",
   "execution_count": 3,
   "metadata": {},
   "outputs": [],
   "source": [
    "Market_Sales = session.read_csv(\"supermarket_sales - Sheet1.csv\", keys=[\"Invoice ID\"]) "
   ]
  },
  {
   "cell_type": "code",
   "execution_count": 4,
   "metadata": {},
   "outputs": [
    {
     "data": {
      "text/html": [
       "<div>\n",
       "<style scoped>\n",
       "    .dataframe tbody tr th:only-of-type {\n",
       "        vertical-align: middle;\n",
       "    }\n",
       "\n",
       "    .dataframe tbody tr th {\n",
       "        vertical-align: top;\n",
       "    }\n",
       "\n",
       "    .dataframe thead th {\n",
       "        text-align: right;\n",
       "    }\n",
       "</style>\n",
       "<table border=\"1\" class=\"dataframe\">\n",
       "  <thead>\n",
       "    <tr style=\"text-align: right;\">\n",
       "      <th></th>\n",
       "      <th>Branch</th>\n",
       "      <th>City</th>\n",
       "      <th>Customer type</th>\n",
       "      <th>Gender</th>\n",
       "      <th>Product line</th>\n",
       "      <th>Unit price</th>\n",
       "      <th>Quantity</th>\n",
       "      <th>Tax 5%</th>\n",
       "      <th>Total</th>\n",
       "      <th>Date</th>\n",
       "      <th>Time</th>\n",
       "      <th>Payment</th>\n",
       "      <th>cogs</th>\n",
       "      <th>gross margin percentage</th>\n",
       "      <th>gross income</th>\n",
       "      <th>Rating</th>\n",
       "    </tr>\n",
       "    <tr>\n",
       "      <th>Invoice ID</th>\n",
       "      <th></th>\n",
       "      <th></th>\n",
       "      <th></th>\n",
       "      <th></th>\n",
       "      <th></th>\n",
       "      <th></th>\n",
       "      <th></th>\n",
       "      <th></th>\n",
       "      <th></th>\n",
       "      <th></th>\n",
       "      <th></th>\n",
       "      <th></th>\n",
       "      <th></th>\n",
       "      <th></th>\n",
       "      <th></th>\n",
       "      <th></th>\n",
       "    </tr>\n",
       "  </thead>\n",
       "  <tbody>\n",
       "    <tr>\n",
       "      <th>750-67-8428</th>\n",
       "      <td>A</td>\n",
       "      <td>Yangon</td>\n",
       "      <td>Member</td>\n",
       "      <td>Female</td>\n",
       "      <td>Health and beauty</td>\n",
       "      <td>74.69</td>\n",
       "      <td>7</td>\n",
       "      <td>26.1415</td>\n",
       "      <td>548.9715</td>\n",
       "      <td>1/5/2019</td>\n",
       "      <td>13:08</td>\n",
       "      <td>Ewallet</td>\n",
       "      <td>522.83</td>\n",
       "      <td>4.761905</td>\n",
       "      <td>26.1415</td>\n",
       "      <td>9.1</td>\n",
       "    </tr>\n",
       "    <tr>\n",
       "      <th>226-31-3081</th>\n",
       "      <td>C</td>\n",
       "      <td>Naypyitaw</td>\n",
       "      <td>Normal</td>\n",
       "      <td>Female</td>\n",
       "      <td>Electronic accessories</td>\n",
       "      <td>15.28</td>\n",
       "      <td>5</td>\n",
       "      <td>3.8200</td>\n",
       "      <td>80.2200</td>\n",
       "      <td>3/8/2019</td>\n",
       "      <td>10:29</td>\n",
       "      <td>Cash</td>\n",
       "      <td>76.40</td>\n",
       "      <td>4.761905</td>\n",
       "      <td>3.8200</td>\n",
       "      <td>9.6</td>\n",
       "    </tr>\n",
       "    <tr>\n",
       "      <th>631-41-3108</th>\n",
       "      <td>A</td>\n",
       "      <td>Yangon</td>\n",
       "      <td>Normal</td>\n",
       "      <td>Male</td>\n",
       "      <td>Home and lifestyle</td>\n",
       "      <td>46.33</td>\n",
       "      <td>7</td>\n",
       "      <td>16.2155</td>\n",
       "      <td>340.5255</td>\n",
       "      <td>3/3/2019</td>\n",
       "      <td>13:23</td>\n",
       "      <td>Credit card</td>\n",
       "      <td>324.31</td>\n",
       "      <td>4.761905</td>\n",
       "      <td>16.2155</td>\n",
       "      <td>7.4</td>\n",
       "    </tr>\n",
       "    <tr>\n",
       "      <th>123-19-1176</th>\n",
       "      <td>A</td>\n",
       "      <td>Yangon</td>\n",
       "      <td>Member</td>\n",
       "      <td>Male</td>\n",
       "      <td>Health and beauty</td>\n",
       "      <td>58.22</td>\n",
       "      <td>8</td>\n",
       "      <td>23.2880</td>\n",
       "      <td>489.0480</td>\n",
       "      <td>1/27/2019</td>\n",
       "      <td>20:33</td>\n",
       "      <td>Ewallet</td>\n",
       "      <td>465.76</td>\n",
       "      <td>4.761905</td>\n",
       "      <td>23.2880</td>\n",
       "      <td>8.4</td>\n",
       "    </tr>\n",
       "    <tr>\n",
       "      <th>373-73-7910</th>\n",
       "      <td>A</td>\n",
       "      <td>Yangon</td>\n",
       "      <td>Normal</td>\n",
       "      <td>Male</td>\n",
       "      <td>Sports and travel</td>\n",
       "      <td>86.31</td>\n",
       "      <td>7</td>\n",
       "      <td>30.2085</td>\n",
       "      <td>634.3785</td>\n",
       "      <td>2/8/2019</td>\n",
       "      <td>10:37</td>\n",
       "      <td>Ewallet</td>\n",
       "      <td>604.17</td>\n",
       "      <td>4.761905</td>\n",
       "      <td>30.2085</td>\n",
       "      <td>5.3</td>\n",
       "    </tr>\n",
       "  </tbody>\n",
       "</table>\n",
       "</div>"
      ],
      "text/plain": [
       "            Branch       City Customer type  Gender            Product line  \\\n",
       "Invoice ID                                                                    \n",
       "750-67-8428      A     Yangon        Member  Female       Health and beauty   \n",
       "226-31-3081      C  Naypyitaw        Normal  Female  Electronic accessories   \n",
       "631-41-3108      A     Yangon        Normal    Male      Home and lifestyle   \n",
       "123-19-1176      A     Yangon        Member    Male       Health and beauty   \n",
       "373-73-7910      A     Yangon        Normal    Male       Sports and travel   \n",
       "\n",
       "             Unit price  Quantity   Tax 5%     Total       Date   Time  \\\n",
       "Invoice ID                                                               \n",
       "750-67-8428       74.69         7  26.1415  548.9715   1/5/2019  13:08   \n",
       "226-31-3081       15.28         5   3.8200   80.2200   3/8/2019  10:29   \n",
       "631-41-3108       46.33         7  16.2155  340.5255   3/3/2019  13:23   \n",
       "123-19-1176       58.22         8  23.2880  489.0480  1/27/2019  20:33   \n",
       "373-73-7910       86.31         7  30.2085  634.3785   2/8/2019  10:37   \n",
       "\n",
       "                 Payment    cogs  gross margin percentage  gross income  \\\n",
       "Invoice ID                                                                \n",
       "750-67-8428      Ewallet  522.83                 4.761905       26.1415   \n",
       "226-31-3081         Cash   76.40                 4.761905        3.8200   \n",
       "631-41-3108  Credit card  324.31                 4.761905       16.2155   \n",
       "123-19-1176      Ewallet  465.76                 4.761905       23.2880   \n",
       "373-73-7910      Ewallet  604.17                 4.761905       30.2085   \n",
       "\n",
       "             Rating  \n",
       "Invoice ID           \n",
       "750-67-8428     9.1  \n",
       "226-31-3081     9.6  \n",
       "631-41-3108     7.4  \n",
       "123-19-1176     8.4  \n",
       "373-73-7910     5.3  "
      ]
     },
     "execution_count": 4,
     "metadata": {},
     "output_type": "execute_result"
    }
   ],
   "source": [
    "Market_Sales.head() "
   ]
  },
  {
   "cell_type": "code",
   "execution_count": 5,
   "metadata": {},
   "outputs": [],
   "source": [
    "cube = session.create_cube(Market_Sales) "
   ]
  },
  {
   "cell_type": "code",
   "execution_count": 6,
   "metadata": {},
   "outputs": [
    {
     "data": {
      "application/json": {
       "Supermarket_sales - sheet1": {
        "Branch": [
         "Branch"
        ],
        "City": [
         "City"
        ],
        "Customer type": [
         "Customer type"
        ],
        "Date": [
         "Date"
        ],
        "Gender": [
         "Gender"
        ],
        "Invoice ID": [
         "Invoice ID"
        ],
        "Payment": [
         "Payment"
        ],
        "Product line": [
         "Product line"
        ],
        "Quantity": [
         "Quantity"
        ],
        "Time": [
         "Time"
        ]
       }
      },
      "text/html": [
       "<ul>\n",
       "<li>Dimensions\n",
       "  <ul>\n",
       "  <li>Supermarket_sales - sheet1\n",
       "    <ul>\n",
       "    <li>Branch\n",
       "      <ol>\n",
       "      <li>Branch</li>\n",
       "      </ol>    </li>\n",
       "    <li>City\n",
       "      <ol>\n",
       "      <li>City</li>\n",
       "      </ol>    </li>\n",
       "    <li>Customer type\n",
       "      <ol>\n",
       "      <li>Customer type</li>\n",
       "      </ol>    </li>\n",
       "    <li>Date\n",
       "      <ol>\n",
       "      <li>Date</li>\n",
       "      </ol>    </li>\n",
       "    <li>Gender\n",
       "      <ol>\n",
       "      <li>Gender</li>\n",
       "      </ol>    </li>\n",
       "    <li>Invoice ID\n",
       "      <ol>\n",
       "      <li>Invoice ID</li>\n",
       "      </ol>    </li>\n",
       "    <li>Payment\n",
       "      <ol>\n",
       "      <li>Payment</li>\n",
       "      </ol>    </li>\n",
       "    <li>Product line\n",
       "      <ol>\n",
       "      <li>Product line</li>\n",
       "      </ol>    </li>\n",
       "    <li>Quantity\n",
       "      <ol>\n",
       "      <li>Quantity</li>\n",
       "      </ol>    </li>\n",
       "    <li>Time\n",
       "      <ol>\n",
       "      <li>Time</li>\n",
       "      </ol>    </li>\n",
       "    </ul>\n",
       "  </li>\n",
       "  </ul>\n",
       "</li>\n",
       "</ul>\n"
      ],
      "text/plain": [
       "Hierarchies()"
      ]
     },
     "execution_count": 6,
     "metadata": {
      "application/json": {
       "expanded": true,
       "root": "Dimensions"
      }
     },
     "output_type": "execute_result"
    }
   ],
   "source": [
    "h = cube.hierarchies \n",
    "h"
   ]
  },
  {
   "cell_type": "code",
   "execution_count": 7,
   "metadata": {},
   "outputs": [],
   "source": [
    "l = cube.levels "
   ]
  },
  {
   "cell_type": "code",
   "execution_count": 8,
   "metadata": {},
   "outputs": [
    {
     "data": {
      "application/json": {
       "Branch (Supermarket_sales - sheet1/Branch/Branch)": {
        "dimension": "Supermarket_sales - sheet1",
        "hierarchy": "Branch",
        "type": "string"
       },
       "City (Supermarket_sales - sheet1/City/City)": {
        "dimension": "Supermarket_sales - sheet1",
        "hierarchy": "City",
        "type": "string"
       },
       "Customer type (Supermarket_sales - sheet1/Customer type/Customer type)": {
        "dimension": "Supermarket_sales - sheet1",
        "hierarchy": "Customer type",
        "type": "string"
       },
       "Date (Supermarket_sales - sheet1/Date/Date)": {
        "dimension": "Supermarket_sales - sheet1",
        "hierarchy": "Date",
        "type": "string"
       },
       "Gender (Supermarket_sales - sheet1/Gender/Gender)": {
        "dimension": "Supermarket_sales - sheet1",
        "hierarchy": "Gender",
        "type": "string"
       },
       "Invoice ID (Supermarket_sales - sheet1/Invoice ID/Invoice ID)": {
        "dimension": "Supermarket_sales - sheet1",
        "hierarchy": "Invoice ID",
        "type": "string"
       },
       "Payment (Supermarket_sales - sheet1/Payment/Payment)": {
        "dimension": "Supermarket_sales - sheet1",
        "hierarchy": "Payment",
        "type": "string"
       },
       "Product line (Supermarket_sales - sheet1/Product line/Product line)": {
        "dimension": "Supermarket_sales - sheet1",
        "hierarchy": "Product line",
        "type": "string"
       },
       "Quantity (Supermarket_sales - sheet1/Quantity/Quantity)": {
        "dimension": "Supermarket_sales - sheet1",
        "hierarchy": "Quantity",
        "type": "int (nullable)"
       },
       "Time (Supermarket_sales - sheet1/Time/Time)": {
        "dimension": "Supermarket_sales - sheet1",
        "hierarchy": "Time",
        "type": "string"
       }
      },
      "text/html": [
       "<ul>\n",
       "<li>Levels\n",
       "  <ul>\n",
       "  <li>Branch (Supermarket_sales - sheet1/Branch/Branch)\n",
       "    <ul>\n",
       "    <li>dimension: Supermarket_sales - sheet1</li>\n",
       "    <li>hierarchy: Branch</li>\n",
       "    <li>type: string</li>\n",
       "    </ul>\n",
       "  </li>\n",
       "  <li>City (Supermarket_sales - sheet1/City/City)\n",
       "    <ul>\n",
       "    <li>dimension: Supermarket_sales - sheet1</li>\n",
       "    <li>hierarchy: City</li>\n",
       "    <li>type: string</li>\n",
       "    </ul>\n",
       "  </li>\n",
       "  <li>Customer type (Supermarket_sales - sheet1/Customer type/Customer type)\n",
       "    <ul>\n",
       "    <li>dimension: Supermarket_sales - sheet1</li>\n",
       "    <li>hierarchy: Customer type</li>\n",
       "    <li>type: string</li>\n",
       "    </ul>\n",
       "  </li>\n",
       "  <li>Date (Supermarket_sales - sheet1/Date/Date)\n",
       "    <ul>\n",
       "    <li>dimension: Supermarket_sales - sheet1</li>\n",
       "    <li>hierarchy: Date</li>\n",
       "    <li>type: string</li>\n",
       "    </ul>\n",
       "  </li>\n",
       "  <li>Gender (Supermarket_sales - sheet1/Gender/Gender)\n",
       "    <ul>\n",
       "    <li>dimension: Supermarket_sales - sheet1</li>\n",
       "    <li>hierarchy: Gender</li>\n",
       "    <li>type: string</li>\n",
       "    </ul>\n",
       "  </li>\n",
       "  <li>Invoice ID (Supermarket_sales - sheet1/Invoice ID/Invoice ID)\n",
       "    <ul>\n",
       "    <li>dimension: Supermarket_sales - sheet1</li>\n",
       "    <li>hierarchy: Invoice ID</li>\n",
       "    <li>type: string</li>\n",
       "    </ul>\n",
       "  </li>\n",
       "  <li>Payment (Supermarket_sales - sheet1/Payment/Payment)\n",
       "    <ul>\n",
       "    <li>dimension: Supermarket_sales - sheet1</li>\n",
       "    <li>hierarchy: Payment</li>\n",
       "    <li>type: string</li>\n",
       "    </ul>\n",
       "  </li>\n",
       "  <li>Product line (Supermarket_sales - sheet1/Product line/Product line)\n",
       "    <ul>\n",
       "    <li>dimension: Supermarket_sales - sheet1</li>\n",
       "    <li>hierarchy: Product line</li>\n",
       "    <li>type: string</li>\n",
       "    </ul>\n",
       "  </li>\n",
       "  <li>Quantity (Supermarket_sales - sheet1/Quantity/Quantity)\n",
       "    <ul>\n",
       "    <li>dimension: Supermarket_sales - sheet1</li>\n",
       "    <li>hierarchy: Quantity</li>\n",
       "    <li>type: int (nullable)</li>\n",
       "    </ul>\n",
       "  </li>\n",
       "  <li>Time (Supermarket_sales - sheet1/Time/Time)\n",
       "    <ul>\n",
       "    <li>dimension: Supermarket_sales - sheet1</li>\n",
       "    <li>hierarchy: Time</li>\n",
       "    <li>type: string</li>\n",
       "    </ul>\n",
       "  </li>\n",
       "  </ul>\n",
       "</li>\n",
       "</ul>\n"
      ],
      "text/plain": [
       "Levels()"
      ]
     },
     "execution_count": 8,
     "metadata": {
      "application/json": {
       "expanded": true,
       "root": "Levels"
      }
     },
     "output_type": "execute_result"
    }
   ],
   "source": [
    "l"
   ]
  },
  {
   "cell_type": "code",
   "execution_count": 9,
   "metadata": {},
   "outputs": [
    {
     "data": {
      "application/json": {
       "Rating.MEAN": {
        "formatter": "DOUBLE[#,###.00]"
       },
       "Rating.SUM": {
        "formatter": "DOUBLE[#,###.00]"
       },
       "Tax 5%.MEAN": {
        "formatter": "DOUBLE[#,###.00]"
       },
       "Tax 5%.SUM": {
        "formatter": "DOUBLE[#,###.00]"
       },
       "Total.MEAN": {
        "formatter": "DOUBLE[#,###.00]"
       },
       "Total.SUM": {
        "formatter": "DOUBLE[#,###.00]"
       },
       "Unit price.MEAN": {
        "formatter": "DOUBLE[#,###.00]"
       },
       "Unit price.SUM": {
        "formatter": "DOUBLE[#,###.00]"
       },
       "cogs.MEAN": {
        "formatter": "DOUBLE[#,###.00]"
       },
       "cogs.SUM": {
        "formatter": "DOUBLE[#,###.00]"
       },
       "contributors.COUNT": {
        "formatter": "INT[#,###]"
       },
       "gross income.MEAN": {
        "formatter": "DOUBLE[#,###.00]"
       },
       "gross income.SUM": {
        "formatter": "DOUBLE[#,###.00]"
       },
       "gross margin percentage.MEAN": {
        "formatter": "DOUBLE[#,###.00]"
       },
       "gross margin percentage.SUM": {
        "formatter": "DOUBLE[#,###.00]"
       }
      },
      "text/html": [
       "<ul>\n",
       "<li>Measures\n",
       "  <ul>\n",
       "  <li>Rating.MEAN\n",
       "    <ul>\n",
       "    <li>formatter: DOUBLE[#,###.00]</li>\n",
       "    </ul>\n",
       "  </li>\n",
       "  <li>Rating.SUM\n",
       "    <ul>\n",
       "    <li>formatter: DOUBLE[#,###.00]</li>\n",
       "    </ul>\n",
       "  </li>\n",
       "  <li>Tax 5%.MEAN\n",
       "    <ul>\n",
       "    <li>formatter: DOUBLE[#,###.00]</li>\n",
       "    </ul>\n",
       "  </li>\n",
       "  <li>Tax 5%.SUM\n",
       "    <ul>\n",
       "    <li>formatter: DOUBLE[#,###.00]</li>\n",
       "    </ul>\n",
       "  </li>\n",
       "  <li>Total.MEAN\n",
       "    <ul>\n",
       "    <li>formatter: DOUBLE[#,###.00]</li>\n",
       "    </ul>\n",
       "  </li>\n",
       "  <li>Total.SUM\n",
       "    <ul>\n",
       "    <li>formatter: DOUBLE[#,###.00]</li>\n",
       "    </ul>\n",
       "  </li>\n",
       "  <li>Unit price.MEAN\n",
       "    <ul>\n",
       "    <li>formatter: DOUBLE[#,###.00]</li>\n",
       "    </ul>\n",
       "  </li>\n",
       "  <li>Unit price.SUM\n",
       "    <ul>\n",
       "    <li>formatter: DOUBLE[#,###.00]</li>\n",
       "    </ul>\n",
       "  </li>\n",
       "  <li>cogs.MEAN\n",
       "    <ul>\n",
       "    <li>formatter: DOUBLE[#,###.00]</li>\n",
       "    </ul>\n",
       "  </li>\n",
       "  <li>cogs.SUM\n",
       "    <ul>\n",
       "    <li>formatter: DOUBLE[#,###.00]</li>\n",
       "    </ul>\n",
       "  </li>\n",
       "  <li>contributors.COUNT\n",
       "    <ul>\n",
       "    <li>formatter: INT[#,###]</li>\n",
       "    </ul>\n",
       "  </li>\n",
       "  <li>gross income.MEAN\n",
       "    <ul>\n",
       "    <li>formatter: DOUBLE[#,###.00]</li>\n",
       "    </ul>\n",
       "  </li>\n",
       "  <li>gross income.SUM\n",
       "    <ul>\n",
       "    <li>formatter: DOUBLE[#,###.00]</li>\n",
       "    </ul>\n",
       "  </li>\n",
       "  <li>gross margin percentage.MEAN\n",
       "    <ul>\n",
       "    <li>formatter: DOUBLE[#,###.00]</li>\n",
       "    </ul>\n",
       "  </li>\n",
       "  <li>gross margin percentage.SUM\n",
       "    <ul>\n",
       "    <li>formatter: DOUBLE[#,###.00]</li>\n",
       "    </ul>\n",
       "  </li>\n",
       "  </ul>\n",
       "</li>\n",
       "</ul>\n"
      ],
      "text/plain": [
       "Measures()"
      ]
     },
     "execution_count": 9,
     "metadata": {
      "application/json": {
       "expanded": false,
       "root": "Measures"
      }
     },
     "output_type": "execute_result"
    }
   ],
   "source": [
    "m = cube.measures\n",
    "m"
   ]
  },
  {
   "cell_type": "code",
   "execution_count": 10,
   "metadata": {},
   "outputs": [
    {
     "data": {
      "application/vnd.atoti.convert-query-result-to-widget.v0+json": {
       "mdx": "SELECT {[Measures].[Total.SUM]} ON COLUMNS FROM [Supermarket_sales - sheet1]",
       "sessionName": "Unnamed",
       "widgetCreationCode": "session.visualize()"
      },
      "text/html": [
       "<div>\n",
       "<style scoped>\n",
       "    .dataframe tbody tr th:only-of-type {\n",
       "        vertical-align: middle;\n",
       "    }\n",
       "\n",
       "    .dataframe tbody tr th {\n",
       "        vertical-align: top;\n",
       "    }\n",
       "\n",
       "    .dataframe thead th {\n",
       "        text-align: right;\n",
       "    }\n",
       "</style>\n",
       "<table border=\"1\" class=\"dataframe\">\n",
       "  <thead>\n",
       "    <tr style=\"text-align: right;\">\n",
       "      <th></th>\n",
       "      <th>Total.SUM</th>\n",
       "    </tr>\n",
       "  </thead>\n",
       "  <tbody>\n",
       "    <tr>\n",
       "      <th>0</th>\n",
       "      <td>322,966.75</td>\n",
       "    </tr>\n",
       "  </tbody>\n",
       "</table>\n",
       "</div>"
      ],
      "text/plain": [
       "    Total.SUM\n",
       "0  322,966.75"
      ]
     },
     "execution_count": 10,
     "metadata": {},
     "output_type": "execute_result"
    }
   ],
   "source": [
    "cube.query(m[\"Total.SUM\"])"
   ]
  },
  {
   "cell_type": "code",
   "execution_count": 11,
   "metadata": {
    "tags": []
   },
   "outputs": [
    {
     "data": {
      "application/vnd.atoti.convert-query-result-to-widget.v0+json": {
       "mdx": "SELECT {[Measures].[Total.SUM]} ON COLUMNS, NON EMPTY [Supermarket_sales - sheet1].[Customer type].[Customer type].Members ON ROWS FROM [Supermarket_sales - sheet1]",
       "sessionName": "Unnamed",
       "widgetCreationCode": "session.visualize()"
      },
      "text/html": [
       "<div>\n",
       "<style scoped>\n",
       "    .dataframe tbody tr th:only-of-type {\n",
       "        vertical-align: middle;\n",
       "    }\n",
       "\n",
       "    .dataframe tbody tr th {\n",
       "        vertical-align: top;\n",
       "    }\n",
       "\n",
       "    .dataframe thead th {\n",
       "        text-align: right;\n",
       "    }\n",
       "</style>\n",
       "<table border=\"1\" class=\"dataframe\">\n",
       "  <thead>\n",
       "    <tr style=\"text-align: right;\">\n",
       "      <th></th>\n",
       "      <th>Total.SUM</th>\n",
       "    </tr>\n",
       "    <tr>\n",
       "      <th>Customer type</th>\n",
       "      <th></th>\n",
       "    </tr>\n",
       "  </thead>\n",
       "  <tbody>\n",
       "    <tr>\n",
       "      <th>Member</th>\n",
       "      <td>164,223.44</td>\n",
       "    </tr>\n",
       "    <tr>\n",
       "      <th>Normal</th>\n",
       "      <td>158,743.31</td>\n",
       "    </tr>\n",
       "  </tbody>\n",
       "</table>\n",
       "</div>"
      ],
      "text/plain": [
       "                Total.SUM\n",
       "Customer type            \n",
       "Member         164,223.44\n",
       "Normal         158,743.31"
      ]
     },
     "execution_count": 11,
     "metadata": {},
     "output_type": "execute_result"
    }
   ],
   "source": [
    "cube.query(m[\"Total.SUM\"], levels=l[\"Customer type\"])"
   ]
  },
  {
   "cell_type": "code",
   "execution_count": 12,
   "metadata": {},
   "outputs": [
    {
     "data": {
      "application/vnd.atoti.convert-query-result-to-widget.v0+json": {
       "mdx": "SELECT {[Measures].[Total.SUM]} ON COLUMNS FROM (SELECT [Supermarket_sales - sheet1].[Customer type].[AllMember].[Member] ON COLUMNS FROM [Supermarket_sales - sheet1])",
       "sessionName": "Unnamed",
       "widgetCreationCode": "session.visualize()"
      },
      "text/html": [
       "<div>\n",
       "<style scoped>\n",
       "    .dataframe tbody tr th:only-of-type {\n",
       "        vertical-align: middle;\n",
       "    }\n",
       "\n",
       "    .dataframe tbody tr th {\n",
       "        vertical-align: top;\n",
       "    }\n",
       "\n",
       "    .dataframe thead th {\n",
       "        text-align: right;\n",
       "    }\n",
       "</style>\n",
       "<table border=\"1\" class=\"dataframe\">\n",
       "  <thead>\n",
       "    <tr style=\"text-align: right;\">\n",
       "      <th></th>\n",
       "      <th>Total.SUM</th>\n",
       "    </tr>\n",
       "  </thead>\n",
       "  <tbody>\n",
       "    <tr>\n",
       "      <th>0</th>\n",
       "      <td>164,223.44</td>\n",
       "    </tr>\n",
       "  </tbody>\n",
       "</table>\n",
       "</div>"
      ],
      "text/plain": [
       "    Total.SUM\n",
       "0  164,223.44"
      ]
     },
     "execution_count": 12,
     "metadata": {},
     "output_type": "execute_result"
    }
   ],
   "source": [
    "cube.query(\n",
    "    m[\"Total.SUM\"],\n",
    "    condition=l[\"Customer type\"] == \"Member\",\n",
    ")"
   ]
  },
  {
   "cell_type": "code",
   "execution_count": 13,
   "metadata": {
    "tags": []
   },
   "outputs": [
    {
     "data": {
      "application/vnd.atoti.convert-query-result-to-widget.v0+json": {
       "mdx": "SELECT {[Measures].[Total.SUM]} ON COLUMNS, NON EMPTY Crossjoin([Supermarket_sales - sheet1].[City].[City].Members, [Supermarket_sales - sheet1].[Product line].[Product line].Members) ON ROWS FROM [Supermarket_sales - sheet1]",
       "sessionName": "Unnamed",
       "widgetCreationCode": "session.visualize()"
      },
      "text/html": [
       "<div>\n",
       "<style scoped>\n",
       "    .dataframe tbody tr th:only-of-type {\n",
       "        vertical-align: middle;\n",
       "    }\n",
       "\n",
       "    .dataframe tbody tr th {\n",
       "        vertical-align: top;\n",
       "    }\n",
       "\n",
       "    .dataframe thead th {\n",
       "        text-align: right;\n",
       "    }\n",
       "</style>\n",
       "<table border=\"1\" class=\"dataframe\">\n",
       "  <thead>\n",
       "    <tr style=\"text-align: right;\">\n",
       "      <th></th>\n",
       "      <th></th>\n",
       "      <th>Total.SUM</th>\n",
       "    </tr>\n",
       "    <tr>\n",
       "      <th>City</th>\n",
       "      <th>Product line</th>\n",
       "      <th></th>\n",
       "    </tr>\n",
       "  </thead>\n",
       "  <tbody>\n",
       "    <tr>\n",
       "      <th rowspan=\"6\" valign=\"top\">Mandalay</th>\n",
       "      <th>Electronic accessories</th>\n",
       "      <td>17,051.44</td>\n",
       "    </tr>\n",
       "    <tr>\n",
       "      <th>Fashion accessories</th>\n",
       "      <td>16,413.32</td>\n",
       "    </tr>\n",
       "    <tr>\n",
       "      <th>Food and beverages</th>\n",
       "      <td>15,214.89</td>\n",
       "    </tr>\n",
       "    <tr>\n",
       "      <th>Health and beauty</th>\n",
       "      <td>19,980.66</td>\n",
       "    </tr>\n",
       "    <tr>\n",
       "      <th>Home and lifestyle</th>\n",
       "      <td>17,549.16</td>\n",
       "    </tr>\n",
       "    <tr>\n",
       "      <th>Sports and travel</th>\n",
       "      <td>19,988.20</td>\n",
       "    </tr>\n",
       "    <tr>\n",
       "      <th rowspan=\"6\" valign=\"top\">Naypyitaw</th>\n",
       "      <th>Electronic accessories</th>\n",
       "      <td>18,968.97</td>\n",
       "    </tr>\n",
       "    <tr>\n",
       "      <th>Fashion accessories</th>\n",
       "      <td>21,560.07</td>\n",
       "    </tr>\n",
       "    <tr>\n",
       "      <th>Food and beverages</th>\n",
       "      <td>23,766.85</td>\n",
       "    </tr>\n",
       "    <tr>\n",
       "      <th>Health and beauty</th>\n",
       "      <td>16,615.33</td>\n",
       "    </tr>\n",
       "    <tr>\n",
       "      <th>Home and lifestyle</th>\n",
       "      <td>13,895.55</td>\n",
       "    </tr>\n",
       "    <tr>\n",
       "      <th>Sports and travel</th>\n",
       "      <td>15,761.93</td>\n",
       "    </tr>\n",
       "    <tr>\n",
       "      <th rowspan=\"6\" valign=\"top\">Yangon</th>\n",
       "      <th>Electronic accessories</th>\n",
       "      <td>18,317.11</td>\n",
       "    </tr>\n",
       "    <tr>\n",
       "      <th>Fashion accessories</th>\n",
       "      <td>16,332.51</td>\n",
       "    </tr>\n",
       "    <tr>\n",
       "      <th>Food and beverages</th>\n",
       "      <td>17,163.10</td>\n",
       "    </tr>\n",
       "    <tr>\n",
       "      <th>Health and beauty</th>\n",
       "      <td>12,597.75</td>\n",
       "    </tr>\n",
       "    <tr>\n",
       "      <th>Home and lifestyle</th>\n",
       "      <td>22,417.20</td>\n",
       "    </tr>\n",
       "    <tr>\n",
       "      <th>Sports and travel</th>\n",
       "      <td>19,372.70</td>\n",
       "    </tr>\n",
       "  </tbody>\n",
       "</table>\n",
       "</div>"
      ],
      "text/plain": [
       "                                  Total.SUM\n",
       "City      Product line                     \n",
       "Mandalay  Electronic accessories  17,051.44\n",
       "          Fashion accessories     16,413.32\n",
       "          Food and beverages      15,214.89\n",
       "          Health and beauty       19,980.66\n",
       "          Home and lifestyle      17,549.16\n",
       "          Sports and travel       19,988.20\n",
       "Naypyitaw Electronic accessories  18,968.97\n",
       "          Fashion accessories     21,560.07\n",
       "          Food and beverages      23,766.85\n",
       "          Health and beauty       16,615.33\n",
       "          Home and lifestyle      13,895.55\n",
       "          Sports and travel       15,761.93\n",
       "Yangon    Electronic accessories  18,317.11\n",
       "          Fashion accessories     16,332.51\n",
       "          Food and beverages      17,163.10\n",
       "          Health and beauty       12,597.75\n",
       "          Home and lifestyle      22,417.20\n",
       "          Sports and travel       19,372.70"
      ]
     },
     "execution_count": 13,
     "metadata": {},
     "output_type": "execute_result"
    }
   ],
   "source": [
    "cube.query(m[\"Total.SUM\"], levels=[l[\"City\"], l[\"Product line\"]])"
   ]
  },
  {
   "cell_type": "code",
   "execution_count": 14,
   "metadata": {
    "tags": []
   },
   "outputs": [
    {
     "data": {
      "application/vnd.atoti.convert-query-result-to-widget.v0+json": {
       "mdx": "SELECT {[Measures].[Total.SUM]} ON COLUMNS, NON EMPTY Crossjoin([Supermarket_sales - sheet1].[City].[City].Members, [Supermarket_sales - sheet1].[Product line].[Product line].Members) ON ROWS FROM (SELECT [Supermarket_sales - sheet1].[Customer type].[AllMember].[Member] ON COLUMNS FROM [Supermarket_sales - sheet1])",
       "sessionName": "Unnamed",
       "widgetCreationCode": "session.visualize()"
      },
      "text/html": [
       "<div>\n",
       "<style scoped>\n",
       "    .dataframe tbody tr th:only-of-type {\n",
       "        vertical-align: middle;\n",
       "    }\n",
       "\n",
       "    .dataframe tbody tr th {\n",
       "        vertical-align: top;\n",
       "    }\n",
       "\n",
       "    .dataframe thead th {\n",
       "        text-align: right;\n",
       "    }\n",
       "</style>\n",
       "<table border=\"1\" class=\"dataframe\">\n",
       "  <thead>\n",
       "    <tr style=\"text-align: right;\">\n",
       "      <th></th>\n",
       "      <th></th>\n",
       "      <th>Total.SUM</th>\n",
       "    </tr>\n",
       "    <tr>\n",
       "      <th>City</th>\n",
       "      <th>Product line</th>\n",
       "      <th></th>\n",
       "    </tr>\n",
       "  </thead>\n",
       "  <tbody>\n",
       "    <tr>\n",
       "      <th rowspan=\"6\" valign=\"top\">Mandalay</th>\n",
       "      <th>Electronic accessories</th>\n",
       "      <td>7,424.85</td>\n",
       "    </tr>\n",
       "    <tr>\n",
       "      <th>Fashion accessories</th>\n",
       "      <td>7,339.53</td>\n",
       "    </tr>\n",
       "    <tr>\n",
       "      <th>Food and beverages</th>\n",
       "      <td>9,423.12</td>\n",
       "    </tr>\n",
       "    <tr>\n",
       "      <th>Health and beauty</th>\n",
       "      <td>11,327.82</td>\n",
       "    </tr>\n",
       "    <tr>\n",
       "      <th>Home and lifestyle</th>\n",
       "      <td>7,769.31</td>\n",
       "    </tr>\n",
       "    <tr>\n",
       "      <th>Sports and travel</th>\n",
       "      <td>10,420.05</td>\n",
       "    </tr>\n",
       "    <tr>\n",
       "      <th rowspan=\"6\" valign=\"top\">Naypyitaw</th>\n",
       "      <th>Electronic accessories</th>\n",
       "      <td>7,927.95</td>\n",
       "    </tr>\n",
       "    <tr>\n",
       "      <th>Fashion accessories</th>\n",
       "      <td>12,041.85</td>\n",
       "    </tr>\n",
       "    <tr>\n",
       "      <th>Food and beverages</th>\n",
       "      <td>13,057.44</td>\n",
       "    </tr>\n",
       "    <tr>\n",
       "      <th>Health and beauty</th>\n",
       "      <td>8,064.33</td>\n",
       "    </tr>\n",
       "    <tr>\n",
       "      <th>Home and lifestyle</th>\n",
       "      <td>7,652.42</td>\n",
       "    </tr>\n",
       "    <tr>\n",
       "      <th>Sports and travel</th>\n",
       "      <td>8,137.29</td>\n",
       "    </tr>\n",
       "    <tr>\n",
       "      <th rowspan=\"6\" valign=\"top\">Yangon</th>\n",
       "      <th>Electronic accessories</th>\n",
       "      <td>9,145.69</td>\n",
       "    </tr>\n",
       "    <tr>\n",
       "      <th>Fashion accessories</th>\n",
       "      <td>6,942.58</td>\n",
       "    </tr>\n",
       "    <tr>\n",
       "      <th>Food and beverages</th>\n",
       "      <td>8,877.06</td>\n",
       "    </tr>\n",
       "    <tr>\n",
       "      <th>Health and beauty</th>\n",
       "      <td>6,438.89</td>\n",
       "    </tr>\n",
       "    <tr>\n",
       "      <th>Home and lifestyle</th>\n",
       "      <td>12,556.30</td>\n",
       "    </tr>\n",
       "    <tr>\n",
       "      <th>Sports and travel</th>\n",
       "      <td>9,676.96</td>\n",
       "    </tr>\n",
       "  </tbody>\n",
       "</table>\n",
       "</div>"
      ],
      "text/plain": [
       "                                  Total.SUM\n",
       "City      Product line                     \n",
       "Mandalay  Electronic accessories   7,424.85\n",
       "          Fashion accessories      7,339.53\n",
       "          Food and beverages       9,423.12\n",
       "          Health and beauty       11,327.82\n",
       "          Home and lifestyle       7,769.31\n",
       "          Sports and travel       10,420.05\n",
       "Naypyitaw Electronic accessories   7,927.95\n",
       "          Fashion accessories     12,041.85\n",
       "          Food and beverages      13,057.44\n",
       "          Health and beauty        8,064.33\n",
       "          Home and lifestyle       7,652.42\n",
       "          Sports and travel        8,137.29\n",
       "Yangon    Electronic accessories   9,145.69\n",
       "          Fashion accessories      6,942.58\n",
       "          Food and beverages       8,877.06\n",
       "          Health and beauty        6,438.89\n",
       "          Home and lifestyle      12,556.30\n",
       "          Sports and travel        9,676.96"
      ]
     },
     "execution_count": 14,
     "metadata": {},
     "output_type": "execute_result"
    }
   ],
   "source": [
    "cube.query(\n",
    "    m[\"Total.SUM\"],\n",
    "    levels=[l[\"City\"], l[\"Product line\"]],\n",
    "    condition=l[\"Customer type\"] == \"Member\",\n",
    ")"
   ]
  },
  {
   "cell_type": "code",
   "execution_count": null,
   "metadata": {
    "atoti": {
     "height": 421,
     "widget": {
      "filters": [
       "{[Supermarket_sales - sheet1].[Invoice ID].[AllMember].[101-17-6199], [Supermarket_sales - sheet1].[Invoice ID].[AllMember].[101-81-4070], [Supermarket_sales - sheet1].[Invoice ID].[AllMember].[102-06-2002], [Supermarket_sales - sheet1].[Invoice ID].[AllMember].[102-77-2261], [Supermarket_sales - sheet1].[Invoice ID].[AllMember].[105-10-6182], [Supermarket_sales - sheet1].[Invoice ID].[AllMember].[105-31-1824], [Supermarket_sales - sheet1].[Invoice ID].[AllMember].[106-35-6779], [Supermarket_sales - sheet1].[Invoice ID].[AllMember].[109-28-2512], [Supermarket_sales - sheet1].[Invoice ID].[AllMember].[109-86-4363], [Supermarket_sales - sheet1].[Invoice ID].[AllMember].[110-05-6330], [Supermarket_sales - sheet1].[Invoice ID].[AllMember].[110-48-7033], [Supermarket_sales - sheet1].[Invoice ID].[AllMember].[114-35-5271], [Supermarket_sales - sheet1].[Invoice ID].[AllMember].[115-38-7388], [Supermarket_sales - sheet1].[Invoice ID].[AllMember].[115-99-4379], [Supermarket_sales - sheet1].[Invoice ID].[AllMember].[118-62-1812], [Supermarket_sales - sheet1].[Invoice ID].[AllMember].[120-06-4233], [Supermarket_sales - sheet1].[Invoice ID].[AllMember].[120-54-2248], [Supermarket_sales - sheet1].[Invoice ID].[AllMember].[122-61-9553], [Supermarket_sales - sheet1].[Invoice ID].[AllMember].[123-19-1176], [Supermarket_sales - sheet1].[Invoice ID].[AllMember].[123-35-4896], [Supermarket_sales - sheet1].[Invoice ID].[AllMember].[124-31-1458], [Supermarket_sales - sheet1].[Invoice ID].[AllMember].[125-45-2293], [Supermarket_sales - sheet1].[Invoice ID].[AllMember].[126-54-1082], [Supermarket_sales - sheet1].[Invoice ID].[AllMember].[127-47-6963], [Supermarket_sales - sheet1].[Invoice ID].[AllMember].[129-29-8530], [Supermarket_sales - sheet1].[Invoice ID].[AllMember].[130-67-4723], [Supermarket_sales - sheet1].[Invoice ID].[AllMember].[130-98-8941], [Supermarket_sales - sheet1].[Invoice ID].[AllMember].[131-15-8856], [Supermarket_sales - sheet1].[Invoice ID].[AllMember].[131-70-8179], [Supermarket_sales - sheet1].[Invoice ID].[AllMember].[132-23-6451], [Supermarket_sales - sheet1].[Invoice ID].[AllMember].[132-32-9879], [Supermarket_sales - sheet1].[Invoice ID].[AllMember].[133-14-7229], [Supermarket_sales - sheet1].[Invoice ID].[AllMember].[133-77-3154], [Supermarket_sales - sheet1].[Invoice ID].[AllMember].[134-54-4720], [Supermarket_sales - sheet1].[Invoice ID].[AllMember].[134-75-2619], [Supermarket_sales - sheet1].[Invoice ID].[AllMember].[135-13-8269], [Supermarket_sales - sheet1].[Invoice ID].[AllMember].[135-84-8019], [Supermarket_sales - sheet1].[Invoice ID].[AllMember].[136-08-6195], [Supermarket_sales - sheet1].[Invoice ID].[AllMember].[137-63-5492], [Supermarket_sales - sheet1].[Invoice ID].[AllMember].[137-74-8729], [Supermarket_sales - sheet1].[Invoice ID].[AllMember].[138-17-5109], [Supermarket_sales - sheet1].[Invoice ID].[AllMember].[139-20-0155], [Supermarket_sales - sheet1].[Invoice ID].[AllMember].[139-32-4183], [Supermarket_sales - sheet1].[Invoice ID].[AllMember].[139-52-2867], [Supermarket_sales - sheet1].[Invoice ID].[AllMember].[142-63-6033], [Supermarket_sales - sheet1].[Invoice ID].[AllMember].[142-72-4741], [Supermarket_sales - sheet1].[Invoice ID].[AllMember].[144-51-6085], [Supermarket_sales - sheet1].[Invoice ID].[AllMember].[145-94-9061], [Supermarket_sales - sheet1].[Invoice ID].[AllMember].[146-09-5432], [Supermarket_sales - sheet1].[Invoice ID].[AllMember].[148-41-7930], [Supermarket_sales - sheet1].[Invoice ID].[AllMember].[148-82-2527], [Supermarket_sales - sheet1].[Invoice ID].[AllMember].[149-14-0304], [Supermarket_sales - sheet1].[Invoice ID].[AllMember].[149-15-7606], [Supermarket_sales - sheet1].[Invoice ID].[AllMember].[149-61-1929], [Supermarket_sales - sheet1].[Invoice ID].[AllMember].[149-71-6266], [Supermarket_sales - sheet1].[Invoice ID].[AllMember].[150-89-8043], [Supermarket_sales - sheet1].[Invoice ID].[AllMember].[151-16-1484], [Supermarket_sales - sheet1].[Invoice ID].[AllMember].[151-27-8496], [Supermarket_sales - sheet1].[Invoice ID].[AllMember].[151-33-7434], [Supermarket_sales - sheet1].[Invoice ID].[AllMember].[152-03-4217], [Supermarket_sales - sheet1].[Invoice ID].[AllMember].[152-08-9985], [Supermarket_sales - sheet1].[Invoice ID].[AllMember].[152-68-2907], [Supermarket_sales - sheet1].[Invoice ID].[AllMember].[153-58-4872], [Supermarket_sales - sheet1].[Invoice ID].[AllMember].[154-74-7179], [Supermarket_sales - sheet1].[Invoice ID].[AllMember].[154-87-7367], [Supermarket_sales - sheet1].[Invoice ID].[AllMember].[155-45-3814], [Supermarket_sales - sheet1].[Invoice ID].[AllMember].[156-20-0370], [Supermarket_sales - sheet1].[Invoice ID].[AllMember].[156-95-3964], [Supermarket_sales - sheet1].[Invoice ID].[AllMember].[157-13-5295], [Supermarket_sales - sheet1].[Invoice ID].[AllMember].[160-22-2687], [Supermarket_sales - sheet1].[Invoice ID].[AllMember].[162-48-8011], [Supermarket_sales - sheet1].[Invoice ID].[AllMember].[162-65-8559], [Supermarket_sales - sheet1].[Invoice ID].[AllMember].[163-56-7055], [Supermarket_sales - sheet1].[Invoice ID].[AllMember].[166-19-2553], [Supermarket_sales - sheet1].[Invoice ID].[AllMember].[169-52-4504], [Supermarket_sales - sheet1].[Invoice ID].[AllMember].[172-42-8274], [Supermarket_sales - sheet1].[Invoice ID].[AllMember].[173-50-1108], [Supermarket_sales - sheet1].[Invoice ID].[AllMember].[173-57-2300], [Supermarket_sales - sheet1].[Invoice ID].[AllMember].[173-82-9529], [Supermarket_sales - sheet1].[Invoice ID].[AllMember].[174-36-3675], [Supermarket_sales - sheet1].[Invoice ID].[AllMember].[174-64-0215], [Supermarket_sales - sheet1].[Invoice ID].[AllMember].[174-75-0888], [Supermarket_sales - sheet1].[Invoice ID].[AllMember].[175-54-2529], [Supermarket_sales - sheet1].[Invoice ID].[AllMember].[176-64-7711], [Supermarket_sales - sheet1].[Invoice ID].[AllMember].[181-82-6255], [Supermarket_sales - sheet1].[Invoice ID].[AllMember].[181-94-6432], [Supermarket_sales - sheet1].[Invoice ID].[AllMember].[182-52-7000], [Supermarket_sales - sheet1].[Invoice ID].[AllMember].[182-69-8360], [Supermarket_sales - sheet1].[Invoice ID].[AllMember].[182-88-2763], [Supermarket_sales - sheet1].[Invoice ID].[AllMember].[183-21-3799], [Supermarket_sales - sheet1].[Invoice ID].[AllMember].[183-56-6882], [Supermarket_sales - sheet1].[Invoice ID].[AllMember].[186-09-3669], [Supermarket_sales - sheet1].[Invoice ID].[AllMember].[186-43-8965], [Supermarket_sales - sheet1].[Invoice ID].[AllMember].[186-71-5196], [Supermarket_sales - sheet1].[Invoice ID].[AllMember].[186-79-9562], [Supermarket_sales - sheet1].[Invoice ID].[AllMember].[187-83-5490], [Supermarket_sales - sheet1].[Invoice ID].[AllMember].[188-55-0967], [Supermarket_sales - sheet1].[Invoice ID].[AllMember].[189-08-9157], [Supermarket_sales - sheet1].[Invoice ID].[AllMember].[189-17-4241], [Supermarket_sales - sheet1].[Invoice ID].[AllMember].[189-40-5216], [Supermarket_sales - sheet1].[Invoice ID].[AllMember].[189-52-0236], [Supermarket_sales - sheet1].[Invoice ID].[AllMember].[189-55-2313], [Supermarket_sales - sheet1].[Invoice ID].[AllMember].[189-98-2939], [Supermarket_sales - sheet1].[Invoice ID].[AllMember].[190-14-3147], [Supermarket_sales - sheet1].[Invoice ID].[AllMember].[190-59-3964], [Supermarket_sales - sheet1].[Invoice ID].[AllMember].[191-10-6171], [Supermarket_sales - sheet1].[Invoice ID].[AllMember].[191-29-0321], [Supermarket_sales - sheet1].[Invoice ID].[AllMember].[192-98-7397], [Supermarket_sales - sheet1].[Invoice ID].[AllMember].[195-06-0432], [Supermarket_sales - sheet1].[Invoice ID].[AllMember].[196-01-2849], [Supermarket_sales - sheet1].[Invoice ID].[AllMember].[197-77-7132], [Supermarket_sales - sheet1].[Invoice ID].[AllMember].[198-66-9832], [Supermarket_sales - sheet1].[Invoice ID].[AllMember].[198-84-7132], [Supermarket_sales - sheet1].[Invoice ID].[AllMember].[199-75-8169], [Supermarket_sales - sheet1].[Invoice ID].[AllMember].[200-16-5952], [Supermarket_sales - sheet1].[Invoice ID].[AllMember].[200-40-6154], [Supermarket_sales - sheet1].[Invoice ID].[AllMember].[201-63-8275], [Supermarket_sales - sheet1].[Invoice ID].[AllMember].[201-86-2184], [Supermarket_sales - sheet1].[Invoice ID].[AllMember].[207-73-1363], [Supermarket_sales - sheet1].[Invoice ID].[AllMember].[209-61-0206], [Supermarket_sales - sheet1].[Invoice ID].[AllMember].[210-30-7976], [Supermarket_sales - sheet1].[Invoice ID].[AllMember].[210-57-1719], [Supermarket_sales - sheet1].[Invoice ID].[AllMember].[210-67-5886], [Supermarket_sales - sheet1].[Invoice ID].[AllMember].[210-74-9613], [Supermarket_sales - sheet1].[Invoice ID].[AllMember].[211-05-0490], [Supermarket_sales - sheet1].[Invoice ID].[AllMember].[211-30-9270], [Supermarket_sales - sheet1].[Invoice ID].[AllMember].[212-62-1842], [Supermarket_sales - sheet1].[Invoice ID].[AllMember].[213-32-1216], [Supermarket_sales - sheet1].[Invoice ID].[AllMember].[213-72-6612], [Supermarket_sales - sheet1].[Invoice ID].[AllMember].[214-17-6927], [Supermarket_sales - sheet1].[Invoice ID].[AllMember].[214-30-2776], [Supermarket_sales - sheet1].[Invoice ID].[AllMember].[217-58-1179], [Supermarket_sales - sheet1].[Invoice ID].[AllMember].[218-59-9410], [Supermarket_sales - sheet1].[Invoice ID].[AllMember].[219-22-9386], [Supermarket_sales - sheet1].[Invoice ID].[AllMember].[219-61-4139], [Supermarket_sales - sheet1].[Invoice ID].[AllMember].[220-28-1851], [Supermarket_sales - sheet1].[Invoice ID].[AllMember].[220-68-6701], [Supermarket_sales - sheet1].[Invoice ID].[AllMember].[221-25-5073], [Supermarket_sales - sheet1].[Invoice ID].[AllMember].[222-42-0244], [Supermarket_sales - sheet1].[Invoice ID].[AllMember].[225-32-0908], [Supermarket_sales - sheet1].[Invoice ID].[AllMember].[225-98-1496], [Supermarket_sales - sheet1].[Invoice ID].[AllMember].[226-31-3081], [Supermarket_sales - sheet1].[Invoice ID].[AllMember].[226-34-0034], [Supermarket_sales - sheet1].[Invoice ID].[AllMember].[226-71-3580], [Supermarket_sales - sheet1].[Invoice ID].[AllMember].[227-03-5010], [Supermarket_sales - sheet1].[Invoice ID].[AllMember].[227-07-4446], [Supermarket_sales - sheet1].[Invoice ID].[AllMember].[227-50-3718], [Supermarket_sales - sheet1].[Invoice ID].[AllMember].[227-78-1148], [Supermarket_sales - sheet1].[Invoice ID].[AllMember].[228-96-1411], [Supermarket_sales - sheet1].[Invoice ID].[AllMember].[232-11-3025], [Supermarket_sales - sheet1].[Invoice ID].[AllMember].[232-16-2483], [Supermarket_sales - sheet1].[Invoice ID].[AllMember].[233-34-0817], [Supermarket_sales - sheet1].[Invoice ID].[AllMember].[233-67-5758], [Supermarket_sales - sheet1].[Invoice ID].[AllMember].[234-03-4040], [Supermarket_sales - sheet1].[Invoice ID].[AllMember].[234-36-2483], [Supermarket_sales - sheet1].[Invoice ID].[AllMember].[234-65-2137], [Supermarket_sales - sheet1].[Invoice ID].[AllMember].[235-06-8510], [Supermarket_sales - sheet1].[Invoice ID].[AllMember].[235-46-8343], [Supermarket_sales - sheet1].[Invoice ID].[AllMember].[236-27-1144], [Supermarket_sales - sheet1].[Invoice ID].[AllMember].[236-86-3015], [Supermarket_sales - sheet1].[Invoice ID].[AllMember].[237-01-6122], [Supermarket_sales - sheet1].[Invoice ID].[AllMember].[237-44-6163], [Supermarket_sales - sheet1].[Invoice ID].[AllMember].[238-45-6950], [Supermarket_sales - sheet1].[Invoice ID].[AllMember].[238-49-0436], [Supermarket_sales - sheet1].[Invoice ID].[AllMember].[239-10-7476], [Supermarket_sales - sheet1].[Invoice ID].[AllMember].[239-36-3640], [Supermarket_sales - sheet1].[Invoice ID].[AllMember].[239-48-4278], [Supermarket_sales - sheet1].[Invoice ID].[AllMember].[241-11-2261], [Supermarket_sales - sheet1].[Invoice ID].[AllMember].[241-72-9525], [Supermarket_sales - sheet1].[Invoice ID].[AllMember].[241-96-5076], [Supermarket_sales - sheet1].[Invoice ID].[AllMember].[242-11-3142], [Supermarket_sales - sheet1].[Invoice ID].[AllMember].[242-55-6721], [Supermarket_sales - sheet1].[Invoice ID].[AllMember].[243-47-2663], [Supermarket_sales - sheet1].[Invoice ID].[AllMember].[243-55-8457], [Supermarket_sales - sheet1].[Invoice ID].[AllMember].[244-08-0162], [Supermarket_sales - sheet1].[Invoice ID].[AllMember].[246-11-3901], [Supermarket_sales - sheet1].[Invoice ID].[AllMember].[246-55-6923], [Supermarket_sales - sheet1].[Invoice ID].[AllMember].[247-11-2470], [Supermarket_sales - sheet1].[Invoice ID].[AllMember].[249-42-3782], [Supermarket_sales - sheet1].[Invoice ID].[AllMember].[250-17-5703], [Supermarket_sales - sheet1].[Invoice ID].[AllMember].[250-81-7186], [Supermarket_sales - sheet1].[Invoice ID].[AllMember].[252-56-2699], [Supermarket_sales - sheet1].[Invoice ID].[AllMember].[253-12-6086], [Supermarket_sales - sheet1].[Invoice ID].[AllMember].[254-31-0042], [Supermarket_sales - sheet1].[Invoice ID].[AllMember].[256-08-8343], [Supermarket_sales - sheet1].[Invoice ID].[AllMember].[256-58-3609], [Supermarket_sales - sheet1].[Invoice ID].[AllMember].[257-60-7754], [Supermarket_sales - sheet1].[Invoice ID].[AllMember].[257-73-1380], [Supermarket_sales - sheet1].[Invoice ID].[AllMember].[258-69-7810], [Supermarket_sales - sheet1].[Invoice ID].[AllMember].[258-92-7466], [Supermarket_sales - sheet1].[Invoice ID].[AllMember].[261-12-8671], [Supermarket_sales - sheet1].[Invoice ID].[AllMember].[262-47-2794], [Supermarket_sales - sheet1].[Invoice ID].[AllMember].[263-10-3913], [Supermarket_sales - sheet1].[Invoice ID].[AllMember].[263-12-5321], [Supermarket_sales - sheet1].[Invoice ID].[AllMember].[263-87-5680], [Supermarket_sales - sheet1].[Invoice ID].[AllMember].[266-20-6657], [Supermarket_sales - sheet1].[Invoice ID].[AllMember].[266-76-6436], [Supermarket_sales - sheet1].[Invoice ID].[AllMember].[267-62-7380], [Supermarket_sales - sheet1].[Invoice ID].[AllMember].[268-03-6164], [Supermarket_sales - sheet1].[Invoice ID].[AllMember].[268-20-3585], [Supermarket_sales - sheet1].[Invoice ID].[AllMember].[268-27-6179], [Supermarket_sales - sheet1].[Invoice ID].[AllMember].[269-04-5750], [Supermarket_sales - sheet1].[Invoice ID].[AllMember].[269-10-8440], [Supermarket_sales - sheet1].[Invoice ID].[AllMember].[271-77-8740], [Supermarket_sales - sheet1].[Invoice ID].[AllMember].[271-88-8734], [Supermarket_sales - sheet1].[Invoice ID].[AllMember].[272-27-9238], [Supermarket_sales - sheet1].[Invoice ID].[AllMember].[272-65-1806], [Supermarket_sales - sheet1].[Invoice ID].[AllMember].[273-16-6619], [Supermarket_sales - sheet1].[Invoice ID].[AllMember].[273-84-2164], [Supermarket_sales - sheet1].[Invoice ID].[AllMember].[274-05-5470], [Supermarket_sales - sheet1].[Invoice ID].[AllMember].[275-28-0149], [Supermarket_sales - sheet1].[Invoice ID].[AllMember].[276-54-0879], [Supermarket_sales - sheet1].[Invoice ID].[AllMember].[276-75-6884], [Supermarket_sales - sheet1].[Invoice ID].[AllMember].[277-35-5865], [Supermarket_sales - sheet1].[Invoice ID].[AllMember].[277-63-2961], [Supermarket_sales - sheet1].[Invoice ID].[AllMember].[278-86-2735], [Supermarket_sales - sheet1].[Invoice ID].[AllMember].[278-97-7759], [Supermarket_sales - sheet1].[Invoice ID].[AllMember].[279-62-1445], [Supermarket_sales - sheet1].[Invoice ID].[AllMember].[279-74-2924], [Supermarket_sales - sheet1].[Invoice ID].[AllMember].[280-17-4359], [Supermarket_sales - sheet1].[Invoice ID].[AllMember].[280-35-5823], [Supermarket_sales - sheet1].[Invoice ID].[AllMember].[282-35-2475], [Supermarket_sales - sheet1].[Invoice ID].[AllMember].[283-26-5248], [Supermarket_sales - sheet1].[Invoice ID].[AllMember].[283-79-9594], [Supermarket_sales - sheet1].[Invoice ID].[AllMember].[284-34-9626], [Supermarket_sales - sheet1].[Invoice ID].[AllMember].[284-54-4231], [Supermarket_sales - sheet1].[Invoice ID].[AllMember].[285-68-5083], [Supermarket_sales - sheet1].[Invoice ID].[AllMember].[286-01-5402], [Supermarket_sales - sheet1].[Invoice ID].[AllMember].[286-43-6208], [Supermarket_sales - sheet1].[Invoice ID].[AllMember].[286-62-6248], [Supermarket_sales - sheet1].[Invoice ID].[AllMember].[286-75-7818], [Supermarket_sales - sheet1].[Invoice ID].[AllMember].[287-21-9091], [Supermarket_sales - sheet1].[Invoice ID].[AllMember].[287-83-1405], [Supermarket_sales - sheet1].[Invoice ID].[AllMember].[288-38-3758], [Supermarket_sales - sheet1].[Invoice ID].[AllMember].[288-62-1085], [Supermarket_sales - sheet1].[Invoice ID].[AllMember].[289-15-7034], [Supermarket_sales - sheet1].[Invoice ID].[AllMember].[289-65-5721], [Supermarket_sales - sheet1].[Invoice ID].[AllMember].[290-68-2984], [Supermarket_sales - sheet1].[Invoice ID].[AllMember].[291-21-5991], [Supermarket_sales - sheet1].[Invoice ID].[AllMember].[291-32-1427], [Supermarket_sales - sheet1].[Invoice ID].[AllMember].[291-55-6563], [Supermarket_sales - sheet1].[Invoice ID].[AllMember].[291-59-1384], [Supermarket_sales - sheet1].[Invoice ID].[AllMember].[296-11-7041], [Supermarket_sales - sheet1].[Invoice ID].[AllMember].[299-29-0180], [Supermarket_sales - sheet1].[Invoice ID].[AllMember].[299-46-1805], [Supermarket_sales - sheet1].[Invoice ID].[AllMember].[300-71-4605], [Supermarket_sales - sheet1].[Invoice ID].[AllMember].[301-11-9629], [Supermarket_sales - sheet1].[Invoice ID].[AllMember].[301-81-8610], [Supermarket_sales - sheet1].[Invoice ID].[AllMember].[302-15-2162], [Supermarket_sales - sheet1].[Invoice ID].[AllMember].[303-96-2227], [Supermarket_sales - sheet1].[Invoice ID].[AllMember].[305-03-2383], [Supermarket_sales - sheet1].[Invoice ID].[AllMember].[305-14-0245], [Supermarket_sales - sheet1].[Invoice ID].[AllMember].[305-18-3552], [Supermarket_sales - sheet1].[Invoice ID].[AllMember].[305-89-2768], [Supermarket_sales - sheet1].[Invoice ID].[AllMember].[307-04-2070], [Supermarket_sales - sheet1].[Invoice ID].[AllMember].[307-83-9164], [Supermarket_sales - sheet1].[Invoice ID].[AllMember].[307-85-2293], [Supermarket_sales - sheet1].[Invoice ID].[AllMember].[308-39-1707], [Supermarket_sales - sheet1].[Invoice ID].[AllMember].[308-47-4913], [Supermarket_sales - sheet1].[Invoice ID].[AllMember].[308-81-0538], [Supermarket_sales - sheet1].[Invoice ID].[AllMember].[311-13-6971], [Supermarket_sales - sheet1].[Invoice ID].[AllMember].[313-66-9943], [Supermarket_sales - sheet1].[Invoice ID].[AllMember].[314-23-4520], [Supermarket_sales - sheet1].[Invoice ID].[AllMember].[315-22-5665], [Supermarket_sales - sheet1].[Invoice ID].[AllMember].[316-01-3952], [Supermarket_sales - sheet1].[Invoice ID].[AllMember].[316-55-4634], [Supermarket_sales - sheet1].[Invoice ID].[AllMember].[316-66-3011], [Supermarket_sales - sheet1].[Invoice ID].[AllMember].[316-68-6352], [Supermarket_sales - sheet1].[Invoice ID].[AllMember].[318-12-0304], [Supermarket_sales - sheet1].[Invoice ID].[AllMember].[318-68-5053], [Supermarket_sales - sheet1].[Invoice ID].[AllMember].[318-81-2368], [Supermarket_sales - sheet1].[Invoice ID].[AllMember].[319-50-3348], [Supermarket_sales - sheet1].[Invoice ID].[AllMember].[319-74-2561], [Supermarket_sales - sheet1].[Invoice ID].[AllMember].[320-32-8842], [Supermarket_sales - sheet1].[Invoice ID].[AllMember].[320-49-6392], [Supermarket_sales - sheet1].[Invoice ID].[AllMember].[320-85-2052], [Supermarket_sales - sheet1].[Invoice ID].[AllMember].[321-49-7382], [Supermarket_sales - sheet1].[Invoice ID].[AllMember].[322-02-2271], [Supermarket_sales - sheet1].[Invoice ID].[AllMember].[324-41-6833], [Supermarket_sales - sheet1].[Invoice ID].[AllMember].[324-92-3863], [Supermarket_sales - sheet1].[Invoice ID].[AllMember].[325-77-6186], [Supermarket_sales - sheet1].[Invoice ID].[AllMember].[325-89-4209], [Supermarket_sales - sheet1].[Invoice ID].[AllMember].[325-90-8763], [Supermarket_sales - sheet1].[Invoice ID].[AllMember].[326-71-2155], [Supermarket_sales - sheet1].[Invoice ID].[AllMember].[326-78-5178], [Supermarket_sales - sheet1].[Invoice ID].[AllMember].[327-40-9673], [Supermarket_sales - sheet1].[Invoice ID].[AllMember].[329-62-1586], [Supermarket_sales - sheet1].[Invoice ID].[AllMember].[333-23-2632], [Supermarket_sales - sheet1].[Invoice ID].[AllMember].[333-73-7901], [Supermarket_sales - sheet1].[Invoice ID].[AllMember].[334-64-2006], [Supermarket_sales - sheet1].[Invoice ID].[AllMember].[336-78-2147], [Supermarket_sales - sheet1].[Invoice ID].[AllMember].[338-65-2210], [Supermarket_sales - sheet1].[Invoice ID].[AllMember].[339-12-4827], [Supermarket_sales - sheet1].[Invoice ID].[AllMember].[339-18-7061], [Supermarket_sales - sheet1].[Invoice ID].[AllMember].[339-38-9982], [Supermarket_sales - sheet1].[Invoice ID].[AllMember].[339-96-8318], [Supermarket_sales - sheet1].[Invoice ID].[AllMember].[340-21-9136], [Supermarket_sales - sheet1].[Invoice ID].[AllMember].[340-66-0321], [Supermarket_sales - sheet1].[Invoice ID].[AllMember].[342-65-4817], [Supermarket_sales - sheet1].[Invoice ID].[AllMember].[343-61-3544], [Supermarket_sales - sheet1].[Invoice ID].[AllMember].[343-75-9322], [Supermarket_sales - sheet1].[Invoice ID].[AllMember].[343-87-0864], [Supermarket_sales - sheet1].[Invoice ID].[AllMember].[345-08-4992], [Supermarket_sales - sheet1].[Invoice ID].[AllMember].[345-68-9016], [Supermarket_sales - sheet1].[Invoice ID].[AllMember].[346-12-3257], [Supermarket_sales - sheet1].[Invoice ID].[AllMember].[346-84-3103], [Supermarket_sales - sheet1].[Invoice ID].[AllMember].[347-34-2234], [Supermarket_sales - sheet1].[Invoice ID].[AllMember].[347-56-2442], [Supermarket_sales - sheet1].[Invoice ID].[AllMember].[347-72-6115], [Supermarket_sales - sheet1].[Invoice ID].[AllMember].[349-97-8902], [Supermarket_sales - sheet1].[Invoice ID].[AllMember].[351-62-0822], [Supermarket_sales - sheet1].[Invoice ID].[AllMember].[354-25-5821], [Supermarket_sales - sheet1].[Invoice ID].[AllMember].[354-39-5160], [Supermarket_sales - sheet1].[Invoice ID].[AllMember].[355-34-6244], [Supermarket_sales - sheet1].[Invoice ID].[AllMember].[355-53-5943], [Supermarket_sales - sheet1].[Invoice ID].[AllMember].[356-44-8813], [Supermarket_sales - sheet1].[Invoice ID].[AllMember].[358-88-9262], [Supermarket_sales - sheet1].[Invoice ID].[AllMember].[359-90-3665], [Supermarket_sales - sheet1].[Invoice ID].[AllMember].[359-94-5395], [Supermarket_sales - sheet1].[Invoice ID].[AllMember].[360-39-5055], [Supermarket_sales - sheet1].[Invoice ID].[AllMember].[361-59-0574], [Supermarket_sales - sheet1].[Invoice ID].[AllMember].[361-85-2571], [Supermarket_sales - sheet1].[Invoice ID].[AllMember].[362-58-8315], [Supermarket_sales - sheet1].[Invoice ID].[AllMember].[364-33-8584], [Supermarket_sales - sheet1].[Invoice ID].[AllMember].[364-34-2972], [Supermarket_sales - sheet1].[Invoice ID].[AllMember].[365-16-4334], [Supermarket_sales - sheet1].[Invoice ID].[AllMember].[365-64-0515], [Supermarket_sales - sheet1].[Invoice ID].[AllMember].[366-43-6862], [Supermarket_sales - sheet1].[Invoice ID].[AllMember].[366-93-0948], [Supermarket_sales - sheet1].[Invoice ID].[AllMember].[369-82-2676], [Supermarket_sales - sheet1].[Invoice ID].[AllMember].[370-41-7321], [Supermarket_sales - sheet1].[Invoice ID].[AllMember].[370-96-0655], [Supermarket_sales - sheet1].[Invoice ID].[AllMember].[371-85-5789], [Supermarket_sales - sheet1].[Invoice ID].[AllMember].[372-26-1506], [Supermarket_sales - sheet1].[Invoice ID].[AllMember].[372-62-5264], [Supermarket_sales - sheet1].[Invoice ID].[AllMember].[372-94-8041], [Supermarket_sales - sheet1].[Invoice ID].[AllMember].[373-09-4567], [Supermarket_sales - sheet1].[Invoice ID].[AllMember].[373-14-0504], [Supermarket_sales - sheet1].[Invoice ID].[AllMember].[373-73-7910], [Supermarket_sales - sheet1].[Invoice ID].[AllMember].[373-88-1424], [Supermarket_sales - sheet1].[Invoice ID].[AllMember].[374-17-3652], [Supermarket_sales - sheet1].[Invoice ID].[AllMember].[374-38-5555], [Supermarket_sales - sheet1].[Invoice ID].[AllMember].[375-72-3056], [Supermarket_sales - sheet1].[Invoice ID].[AllMember].[376-02-8238], [Supermarket_sales - sheet1].[Invoice ID].[AllMember].[376-56-3573], [Supermarket_sales - sheet1].[Invoice ID].[AllMember].[377-79-7592], [Supermarket_sales - sheet1].[Invoice ID].[AllMember].[378-07-7001], [Supermarket_sales - sheet1].[Invoice ID].[AllMember].[378-24-2715], [Supermarket_sales - sheet1].[Invoice ID].[AllMember].[379-17-6588], [Supermarket_sales - sheet1].[Invoice ID].[AllMember].[380-60-5336], [Supermarket_sales - sheet1].[Invoice ID].[AllMember].[380-94-4661], [Supermarket_sales - sheet1].[Invoice ID].[AllMember].[381-20-0914], [Supermarket_sales - sheet1].[Invoice ID].[AllMember].[382-03-4532], [Supermarket_sales - sheet1].[Invoice ID].[AllMember].[382-25-8917], [Supermarket_sales - sheet1].[Invoice ID].[AllMember].[384-59-6655], [Supermarket_sales - sheet1].[Invoice ID].[AllMember].[386-27-7606], [Supermarket_sales - sheet1].[Invoice ID].[AllMember].[387-49-4215], [Supermarket_sales - sheet1].[Invoice ID].[AllMember].[388-76-2555], [Supermarket_sales - sheet1].[Invoice ID].[AllMember].[389-25-3394], [Supermarket_sales - sheet1].[Invoice ID].[AllMember].[389-70-2397], [Supermarket_sales - sheet1].[Invoice ID].[AllMember].[390-17-5806], [Supermarket_sales - sheet1].[Invoice ID].[AllMember].[390-31-6381], [Supermarket_sales - sheet1].[Invoice ID].[AllMember].[390-80-5128], [Supermarket_sales - sheet1].[Invoice ID].[AllMember].[393-65-2792], [Supermarket_sales - sheet1].[Invoice ID].[AllMember].[394-30-3170], [Supermarket_sales - sheet1].[Invoice ID].[AllMember].[394-41-0748], [Supermarket_sales - sheet1].[Invoice ID].[AllMember].[394-43-4238], [Supermarket_sales - sheet1].[Invoice ID].[AllMember].[394-55-6384], [Supermarket_sales - sheet1].[Invoice ID].[AllMember].[396-90-2219], [Supermarket_sales - sheet1].[Invoice ID].[AllMember].[397-25-8725], [Supermarket_sales - sheet1].[Invoice ID].[AllMember].[399-46-5918], [Supermarket_sales - sheet1].[Invoice ID].[AllMember].[399-69-4630], [Supermarket_sales - sheet1].[Invoice ID].[AllMember].[400-45-1220], [Supermarket_sales - sheet1].[Invoice ID].[AllMember].[400-60-7251], [Supermarket_sales - sheet1].[Invoice ID].[AllMember].[400-80-4065], [Supermarket_sales - sheet1].[Invoice ID].[AllMember].[400-89-4171], [Supermarket_sales - sheet1].[Invoice ID].[AllMember].[401-09-4232], [Supermarket_sales - sheet1].[Invoice ID].[AllMember].[401-18-8016], [Supermarket_sales - sheet1].[Invoice ID].[AllMember].[404-91-5964], [Supermarket_sales - sheet1].[Invoice ID].[AllMember].[405-31-3305], [Supermarket_sales - sheet1].[Invoice ID].[AllMember].[406-46-7107], [Supermarket_sales - sheet1].[Invoice ID].[AllMember].[407-63-8975], [Supermarket_sales - sheet1].[Invoice ID].[AllMember].[408-26-9866], [Supermarket_sales - sheet1].[Invoice ID].[AllMember].[408-66-6712], [Supermarket_sales - sheet1].[Invoice ID].[AllMember].[409-33-9708], [Supermarket_sales - sheet1].[Invoice ID].[AllMember].[409-49-6995], [Supermarket_sales - sheet1].[Invoice ID].[AllMember].[410-67-1709], [Supermarket_sales - sheet1].[Invoice ID].[AllMember].[411-77-0180], [Supermarket_sales - sheet1].[Invoice ID].[AllMember].[413-20-6708], [Supermarket_sales - sheet1].[Invoice ID].[AllMember].[414-12-7047], [Supermarket_sales - sheet1].[Invoice ID].[AllMember].[416-13-5917], [Supermarket_sales - sheet1].[Invoice ID].[AllMember].[416-17-9926], [Supermarket_sales - sheet1].[Invoice ID].[AllMember].[418-02-5978], [Supermarket_sales - sheet1].[Invoice ID].[AllMember].[418-05-0656], [Supermarket_sales - sheet1].[Invoice ID].[AllMember].[420-04-7590], [Supermarket_sales - sheet1].[Invoice ID].[AllMember].[420-11-4919], [Supermarket_sales - sheet1].[Invoice ID].[AllMember].[420-18-8989], [Supermarket_sales - sheet1].[Invoice ID].[AllMember].[420-97-3340], [Supermarket_sales - sheet1].[Invoice ID].[AllMember].[421-95-9805], [Supermarket_sales - sheet1].[Invoice ID].[AllMember].[422-29-8786], [Supermarket_sales - sheet1].[Invoice ID].[AllMember].[423-57-2993], [Supermarket_sales - sheet1].[Invoice ID].[AllMember].[423-64-4619], [Supermarket_sales - sheet1].[Invoice ID].[AllMember].[423-80-0988], [Supermarket_sales - sheet1].[Invoice ID].[AllMember].[425-85-2085], [Supermarket_sales - sheet1].[Invoice ID].[AllMember].[426-39-2418], [Supermarket_sales - sheet1].[Invoice ID].[AllMember].[427-45-9297], [Supermarket_sales - sheet1].[Invoice ID].[AllMember].[428-83-5800], [Supermarket_sales - sheet1].[Invoice ID].[AllMember].[430-02-3888], [Supermarket_sales - sheet1].[Invoice ID].[AllMember].[430-53-4718], [Supermarket_sales - sheet1].[Invoice ID].[AllMember].[430-60-3493], [Supermarket_sales - sheet1].[Invoice ID].[AllMember].[431-66-2305], [Supermarket_sales - sheet1].[Invoice ID].[AllMember].[433-08-7822], [Supermarket_sales - sheet1].[Invoice ID].[AllMember].[433-75-6987], [Supermarket_sales - sheet1].[Invoice ID].[AllMember].[434-35-9162], [Supermarket_sales - sheet1].[Invoice ID].[AllMember].[434-83-9547], [Supermarket_sales - sheet1].[Invoice ID].[AllMember].[435-13-4908], [Supermarket_sales - sheet1].[Invoice ID].[AllMember].[436-54-4512], [Supermarket_sales - sheet1].[Invoice ID].[AllMember].[437-53-3084], [Supermarket_sales - sheet1].[Invoice ID].[AllMember].[437-58-8131], [Supermarket_sales - sheet1].[Invoice ID].[AllMember].[438-01-4015], [Supermarket_sales - sheet1].[Invoice ID].[AllMember].[438-23-1242], [Supermarket_sales - sheet1].[Invoice ID].[AllMember].[439-54-7422], [Supermarket_sales - sheet1].[Invoice ID].[AllMember].[440-59-5691], [Supermarket_sales - sheet1].[Invoice ID].[AllMember].[441-94-7118], [Supermarket_sales - sheet1].[Invoice ID].[AllMember].[442-44-6497], [Supermarket_sales - sheet1].[Invoice ID].[AllMember].[442-48-3607], [Supermarket_sales - sheet1].[Invoice ID].[AllMember].[443-59-0061], [Supermarket_sales - sheet1].[Invoice ID].[AllMember].[443-60-9639], [Supermarket_sales - sheet1].[Invoice ID].[AllMember].[443-82-0585], [Supermarket_sales - sheet1].[Invoice ID].[AllMember].[445-30-9252], [Supermarket_sales - sheet1].[Invoice ID].[AllMember].[446-47-6729], [Supermarket_sales - sheet1].[Invoice ID].[AllMember].[447-15-7839], [Supermarket_sales - sheet1].[Invoice ID].[AllMember].[448-34-8700], [Supermarket_sales - sheet1].[Invoice ID].[AllMember].[448-61-3783], [Supermarket_sales - sheet1].[Invoice ID].[AllMember].[448-81-5016], [Supermarket_sales - sheet1].[Invoice ID].[AllMember].[449-16-6770], [Supermarket_sales - sheet1].[Invoice ID].[AllMember].[449-27-2918], [Supermarket_sales - sheet1].[Invoice ID].[AllMember].[450-28-2866], [Supermarket_sales - sheet1].[Invoice ID].[AllMember].[450-42-3339], [Supermarket_sales - sheet1].[Invoice ID].[AllMember].[451-28-5717], [Supermarket_sales - sheet1].[Invoice ID].[AllMember].[451-73-2711], [Supermarket_sales - sheet1].[Invoice ID].[AllMember].[452-04-8808], [Supermarket_sales - sheet1].[Invoice ID].[AllMember].[453-12-7053], [Supermarket_sales - sheet1].[Invoice ID].[AllMember].[453-33-6436], [Supermarket_sales - sheet1].[Invoice ID].[AllMember].[453-63-6187], [Supermarket_sales - sheet1].[Invoice ID].[AllMember].[457-12-0244], [Supermarket_sales - sheet1].[Invoice ID].[AllMember].[457-13-1708], [Supermarket_sales - sheet1].[Invoice ID].[AllMember].[457-94-0464], [Supermarket_sales - sheet1].[Invoice ID].[AllMember].[458-10-8612], [Supermarket_sales - sheet1].[Invoice ID].[AllMember].[458-41-1477], [Supermarket_sales - sheet1].[Invoice ID].[AllMember].[458-61-0011], [Supermarket_sales - sheet1].[Invoice ID].[AllMember].[459-45-2396], [Supermarket_sales - sheet1].[Invoice ID].[AllMember].[459-50-7686], [Supermarket_sales - sheet1].[Invoice ID].[AllMember].[460-35-4390], [Supermarket_sales - sheet1].[Invoice ID].[AllMember].[460-93-5834], [Supermarket_sales - sheet1].[Invoice ID].[AllMember].[462-67-9126], [Supermarket_sales - sheet1].[Invoice ID].[AllMember].[462-78-5240], [Supermarket_sales - sheet1].[Invoice ID].[AllMember].[466-61-5506], [Supermarket_sales - sheet1].[Invoice ID].[AllMember].[468-01-2051], [Supermarket_sales - sheet1].[Invoice ID].[AllMember].[468-88-0009], [Supermarket_sales - sheet1].[Invoice ID].[AllMember].[468-99-7231], [Supermarket_sales - sheet1].[Invoice ID].[AllMember].[470-31-3286], [Supermarket_sales - sheet1].[Invoice ID].[AllMember].[470-32-9057], [Supermarket_sales - sheet1].[Invoice ID].[AllMember].[471-06-8611], [Supermarket_sales - sheet1].[Invoice ID].[AllMember].[471-41-2823], [Supermarket_sales - sheet1].[Invoice ID].[AllMember].[472-15-9636], [Supermarket_sales - sheet1].[Invoice ID].[AllMember].[474-33-8305], [Supermarket_sales - sheet1].[Invoice ID].[AllMember].[477-24-6490], [Supermarket_sales - sheet1].[Invoice ID].[AllMember].[477-59-2456], [Supermarket_sales - sheet1].[Invoice ID].[AllMember].[478-06-7835], [Supermarket_sales - sheet1].[Invoice ID].[AllMember].[479-26-8945], [Supermarket_sales - sheet1].[Invoice ID].[AllMember].[480-63-2856], [Supermarket_sales - sheet1].[Invoice ID].[AllMember].[482-17-1179], [Supermarket_sales - sheet1].[Invoice ID].[AllMember].[483-71-1164], [Supermarket_sales - sheet1].[Invoice ID].[AllMember].[484-22-8230], [Supermarket_sales - sheet1].[Invoice ID].[AllMember].[485-30-8700], [Supermarket_sales - sheet1].[Invoice ID].[AllMember].[487-79-6868], [Supermarket_sales - sheet1].[Invoice ID].[AllMember].[488-25-4221], [Supermarket_sales - sheet1].[Invoice ID].[AllMember].[489-64-4354], [Supermarket_sales - sheet1].[Invoice ID].[AllMember].[489-82-1237], [Supermarket_sales - sheet1].[Invoice ID].[AllMember].[490-29-1201], [Supermarket_sales - sheet1].[Invoice ID].[AllMember].[490-95-0021], [Supermarket_sales - sheet1].[Invoice ID].[AllMember].[491-38-3499], [Supermarket_sales - sheet1].[Invoice ID].[AllMember].[493-65-6248], [Supermarket_sales - sheet1].[Invoice ID].[AllMember].[497-36-0989], [Supermarket_sales - sheet1].[Invoice ID].[AllMember].[497-37-6538], [Supermarket_sales - sheet1].[Invoice ID].[AllMember].[498-41-1961], [Supermarket_sales - sheet1].[Invoice ID].[AllMember].[499-27-7781], [Supermarket_sales - sheet1].[Invoice ID].[AllMember].[500-02-2261], [Supermarket_sales - sheet1].[Invoice ID].[AllMember].[501-61-1753], [Supermarket_sales - sheet1].[Invoice ID].[AllMember].[502-05-1910], [Supermarket_sales - sheet1].[Invoice ID].[AllMember].[503-07-0930], [Supermarket_sales - sheet1].[Invoice ID].[AllMember].[503-21-4385], [Supermarket_sales - sheet1].[Invoice ID].[AllMember].[504-35-8843], [Supermarket_sales - sheet1].[Invoice ID].[AllMember].[505-02-0892], [Supermarket_sales - sheet1].[Invoice ID].[AllMember].[509-10-0516], [Supermarket_sales - sheet1].[Invoice ID].[AllMember].[509-29-3912], [Supermarket_sales - sheet1].[Invoice ID].[AllMember].[510-09-5628], [Supermarket_sales - sheet1].[Invoice ID].[AllMember].[510-79-0415], [Supermarket_sales - sheet1].[Invoice ID].[AllMember].[510-95-6347], [Supermarket_sales - sheet1].[Invoice ID].[AllMember].[511-54-3087], [Supermarket_sales - sheet1].[Invoice ID].[AllMember].[512-91-0811], [Supermarket_sales - sheet1].[Invoice ID].[AllMember].[512-98-1403], [Supermarket_sales - sheet1].[Invoice ID].[AllMember].[514-37-2845], [Supermarket_sales - sheet1].[Invoice ID].[AllMember].[516-77-6464], [Supermarket_sales - sheet1].[Invoice ID].[AllMember].[518-17-2983], [Supermarket_sales - sheet1].[Invoice ID].[AllMember].[518-71-6847], [Supermarket_sales - sheet1].[Invoice ID].[AllMember].[521-18-7827], [Supermarket_sales - sheet1].[Invoice ID].[AllMember].[522-57-8364], [Supermarket_sales - sheet1].[Invoice ID].[AllMember].[523-38-0215], [Supermarket_sales - sheet1].[Invoice ID].[AllMember].[525-09-8450], [Supermarket_sales - sheet1].[Invoice ID].[AllMember].[525-88-7307], [Supermarket_sales - sheet1].[Invoice ID].[AllMember].[526-86-8552], [Supermarket_sales - sheet1].[Invoice ID].[AllMember].[527-09-6272], [Supermarket_sales - sheet1].[Invoice ID].[AllMember].[528-14-9470], [Supermarket_sales - sheet1].[Invoice ID].[AllMember].[528-87-5606], [Supermarket_sales - sheet1].[Invoice ID].[AllMember].[529-56-3974], [Supermarket_sales - sheet1].[Invoice ID].[AllMember].[530-90-9855], [Supermarket_sales - sheet1].[Invoice ID].[AllMember].[531-56-4728], [Supermarket_sales - sheet1].[Invoice ID].[AllMember].[531-80-1784], [Supermarket_sales - sheet1].[Invoice ID].[AllMember].[532-59-7201], [Supermarket_sales - sheet1].[Invoice ID].[AllMember].[533-33-5337], [Supermarket_sales - sheet1].[Invoice ID].[AllMember].[533-66-5566], [Supermarket_sales - sheet1].[Invoice ID].[AllMember].[534-01-4457], [Supermarket_sales - sheet1].[Invoice ID].[AllMember].[534-53-3526], [Supermarket_sales - sheet1].[Invoice ID].[AllMember].[537-72-0426], [Supermarket_sales - sheet1].[Invoice ID].[AllMember].[538-22-0304], [Supermarket_sales - sheet1].[Invoice ID].[AllMember].[539-21-7227], [Supermarket_sales - sheet1].[Invoice ID].[AllMember].[540-11-4336], [Supermarket_sales - sheet1].[Invoice ID].[AllMember].[541-08-3113], [Supermarket_sales - sheet1].[Invoice ID].[AllMember].[541-48-8554], [Supermarket_sales - sheet1].[Invoice ID].[AllMember].[541-89-9860], [Supermarket_sales - sheet1].[Invoice ID].[AllMember].[542-41-0513], [Supermarket_sales - sheet1].[Invoice ID].[AllMember].[544-32-5024], [Supermarket_sales - sheet1].[Invoice ID].[AllMember].[544-55-9589], [Supermarket_sales - sheet1].[Invoice ID].[AllMember].[545-07-8534], [Supermarket_sales - sheet1].[Invoice ID].[AllMember].[545-46-3100], [Supermarket_sales - sheet1].[Invoice ID].[AllMember].[546-80-2899], [Supermarket_sales - sheet1].[Invoice ID].[AllMember].[548-46-9322], [Supermarket_sales - sheet1].[Invoice ID].[AllMember].[548-48-3156], [Supermarket_sales - sheet1].[Invoice ID].[AllMember].[549-03-9315], [Supermarket_sales - sheet1].[Invoice ID].[AllMember].[549-23-9016], [Supermarket_sales - sheet1].[Invoice ID].[AllMember].[549-59-1358], [Supermarket_sales - sheet1].[Invoice ID].[AllMember].[549-84-7482], [Supermarket_sales - sheet1].[Invoice ID].[AllMember].[549-96-4200], [Supermarket_sales - sheet1].[Invoice ID].[AllMember].[550-84-8664], [Supermarket_sales - sheet1].[Invoice ID].[AllMember].[551-21-3069], [Supermarket_sales - sheet1].[Invoice ID].[AllMember].[552-44-5977], [Supermarket_sales - sheet1].[Invoice ID].[AllMember].[554-42-2417], [Supermarket_sales - sheet1].[Invoice ID].[AllMember].[554-53-3790], [Supermarket_sales - sheet1].[Invoice ID].[AllMember].[554-53-8700], [Supermarket_sales - sheet1].[Invoice ID].[AllMember].[556-41-6224], [Supermarket_sales - sheet1].[Invoice ID].[AllMember].[556-72-8512], [Supermarket_sales - sheet1].[Invoice ID].[AllMember].[556-86-3144], [Supermarket_sales - sheet1].[Invoice ID].[AllMember].[556-97-7101], [Supermarket_sales - sheet1].[Invoice ID].[AllMember].[558-60-5016], [Supermarket_sales - sheet1].[Invoice ID].[AllMember].[558-80-4082], [Supermarket_sales - sheet1].[Invoice ID].[AllMember].[559-61-5987], [Supermarket_sales - sheet1].[Invoice ID].[AllMember].[559-98-9873], [Supermarket_sales - sheet1].[Invoice ID].[AllMember].[560-30-5617], [Supermarket_sales - sheet1].[Invoice ID].[AllMember].[560-49-6611], [Supermarket_sales - sheet1].[Invoice ID].[AllMember].[562-12-5430], [Supermarket_sales - sheet1].[Invoice ID].[AllMember].[563-36-9814], [Supermarket_sales - sheet1].[Invoice ID].[AllMember].[563-47-4072], [Supermarket_sales - sheet1].[Invoice ID].[AllMember].[563-91-7120], [Supermarket_sales - sheet1].[Invoice ID].[AllMember].[565-17-3836], [Supermarket_sales - sheet1].[Invoice ID].[AllMember].[565-67-6697], [Supermarket_sales - sheet1].[Invoice ID].[AllMember].[565-80-5980], [Supermarket_sales - sheet1].[Invoice ID].[AllMember].[565-91-4567], [Supermarket_sales - sheet1].[Invoice ID].[AllMember].[566-19-5475], [Supermarket_sales - sheet1].[Invoice ID].[AllMember].[566-71-1091], [Supermarket_sales - sheet1].[Invoice ID].[AllMember].[568-88-3448], [Supermarket_sales - sheet1].[Invoice ID].[AllMember].[568-90-5112], [Supermarket_sales - sheet1].[Invoice ID].[AllMember].[569-71-4390], [Supermarket_sales - sheet1].[Invoice ID].[AllMember].[569-76-2760], [Supermarket_sales - sheet1].[Invoice ID].[AllMember].[571-94-0759], [Supermarket_sales - sheet1].[Invoice ID].[AllMember].[573-10-3877], [Supermarket_sales - sheet1].[Invoice ID].[AllMember].[573-58-9734], [Supermarket_sales - sheet1].[Invoice ID].[AllMember].[573-98-8548], [Supermarket_sales - sheet1].[Invoice ID].[AllMember].[574-22-5561], [Supermarket_sales - sheet1].[Invoice ID].[AllMember].[574-31-8277], [Supermarket_sales - sheet1].[Invoice ID].[AllMember].[574-57-9721], [Supermarket_sales - sheet1].[Invoice ID].[AllMember].[574-80-1489], [Supermarket_sales - sheet1].[Invoice ID].[AllMember].[575-30-8091], [Supermarket_sales - sheet1].[Invoice ID].[AllMember].[575-67-1508], [Supermarket_sales - sheet1].[Invoice ID].[AllMember].[576-31-4774], [Supermarket_sales - sheet1].[Invoice ID].[AllMember].[577-34-7579], [Supermarket_sales - sheet1].[Invoice ID].[AllMember].[578-80-7669], [Supermarket_sales - sheet1].[Invoice ID].[AllMember].[582-52-8065], [Supermarket_sales - sheet1].[Invoice ID].[AllMember].[583-41-4548], [Supermarket_sales - sheet1].[Invoice ID].[AllMember].[583-72-1480], [Supermarket_sales - sheet1].[Invoice ID].[AllMember].[584-66-4073], [Supermarket_sales - sheet1].[Invoice ID].[AllMember].[584-86-7256], [Supermarket_sales - sheet1].[Invoice ID].[AllMember].[585-03-5943], [Supermarket_sales - sheet1].[Invoice ID].[AllMember].[585-11-6748], [Supermarket_sales - sheet1].[Invoice ID].[AllMember].[585-86-8361], [Supermarket_sales - sheet1].[Invoice ID].[AllMember].[585-90-0249], [Supermarket_sales - sheet1].[Invoice ID].[AllMember].[586-25-0848], [Supermarket_sales - sheet1].[Invoice ID].[AllMember].[587-03-7455], [Supermarket_sales - sheet1].[Invoice ID].[AllMember].[587-73-4862], [Supermarket_sales - sheet1].[Invoice ID].[AllMember].[588-01-7461], [Supermarket_sales - sheet1].[Invoice ID].[AllMember].[588-47-8641], [Supermarket_sales - sheet1].[Invoice ID].[AllMember].[589-02-8023], [Supermarket_sales - sheet1].[Invoice ID].[AllMember].[590-83-4591], [Supermarket_sales - sheet1].[Invoice ID].[AllMember].[592-34-6155], [Supermarket_sales - sheet1].[Invoice ID].[AllMember].[592-46-1692], [Supermarket_sales - sheet1].[Invoice ID].[AllMember].[593-08-5916], [Supermarket_sales - sheet1].[Invoice ID].[AllMember].[593-14-4239], [Supermarket_sales - sheet1].[Invoice ID].[AllMember].[593-65-1552], [Supermarket_sales - sheet1].[Invoice ID].[AllMember].[593-95-4461], [Supermarket_sales - sheet1].[Invoice ID].[AllMember].[594-34-4444], [Supermarket_sales - sheet1].[Invoice ID].[AllMember].[595-11-5460], [Supermarket_sales - sheet1].[Invoice ID].[AllMember].[595-27-4851], [Supermarket_sales - sheet1].[Invoice ID].[AllMember].[595-86-2894], [Supermarket_sales - sheet1].[Invoice ID].[AllMember].[595-94-9924], [Supermarket_sales - sheet1].[Invoice ID].[AllMember].[596-42-3999], [Supermarket_sales - sheet1].[Invoice ID].[AllMember].[597-78-7908], [Supermarket_sales - sheet1].[Invoice ID].[AllMember].[598-06-7312], [Supermarket_sales - sheet1].[Invoice ID].[AllMember].[598-47-9715], [Supermarket_sales - sheet1].[Invoice ID].[AllMember].[600-38-9738], [Supermarket_sales - sheet1].[Invoice ID].[AllMember].[602-16-6955], [Supermarket_sales - sheet1].[Invoice ID].[AllMember].[602-80-9671], [Supermarket_sales - sheet1].[Invoice ID].[AllMember].[603-07-0961], [Supermarket_sales - sheet1].[Invoice ID].[AllMember].[604-70-6476], [Supermarket_sales - sheet1].[Invoice ID].[AllMember].[605-03-2706], [Supermarket_sales - sheet1].[Invoice ID].[AllMember].[605-72-4132], [Supermarket_sales - sheet1].[Invoice ID].[AllMember].[605-83-1050], [Supermarket_sales - sheet1].[Invoice ID].[AllMember].[606-80-4905], [Supermarket_sales - sheet1].[Invoice ID].[AllMember].[607-65-2441], [Supermarket_sales - sheet1].[Invoice ID].[AllMember].[607-76-6216], [Supermarket_sales - sheet1].[Invoice ID].[AllMember].[608-04-3797], [Supermarket_sales - sheet1].[Invoice ID].[AllMember].[608-05-3804], [Supermarket_sales - sheet1].[Invoice ID].[AllMember].[608-27-6295], [Supermarket_sales - sheet1].[Invoice ID].[AllMember].[608-96-3517], [Supermarket_sales - sheet1].[Invoice ID].[AllMember].[609-81-8548], [Supermarket_sales - sheet1].[Invoice ID].[AllMember].[610-46-4100], [Supermarket_sales - sheet1].[Invoice ID].[AllMember].[612-36-5536], [Supermarket_sales - sheet1].[Invoice ID].[AllMember].[613-59-9758], [Supermarket_sales - sheet1].[Invoice ID].[AllMember].[616-24-2851], [Supermarket_sales - sheet1].[Invoice ID].[AllMember].[616-87-0016], [Supermarket_sales - sheet1].[Invoice ID].[AllMember].[617-15-4209], [Supermarket_sales - sheet1].[Invoice ID].[AllMember].[618-34-8551], [Supermarket_sales - sheet1].[Invoice ID].[AllMember].[620-02-2046], [Supermarket_sales - sheet1].[Invoice ID].[AllMember].[622-20-1945], [Supermarket_sales - sheet1].[Invoice ID].[AllMember].[624-01-8356], [Supermarket_sales - sheet1].[Invoice ID].[AllMember].[626-43-7888], [Supermarket_sales - sheet1].[Invoice ID].[AllMember].[627-95-3243], [Supermarket_sales - sheet1].[Invoice ID].[AllMember].[628-34-3388], [Supermarket_sales - sheet1].[Invoice ID].[AllMember].[628-90-8624], [Supermarket_sales - sheet1].[Invoice ID].[AllMember].[629-42-4133], [Supermarket_sales - sheet1].[Invoice ID].[AllMember].[630-74-5166], [Supermarket_sales - sheet1].[Invoice ID].[AllMember].[631-34-1880], [Supermarket_sales - sheet1].[Invoice ID].[AllMember].[631-41-3108], [Supermarket_sales - sheet1].[Invoice ID].[AllMember].[632-32-4574], [Supermarket_sales - sheet1].[Invoice ID].[AllMember].[632-90-0281], [Supermarket_sales - sheet1].[Invoice ID].[AllMember].[633-09-3463], [Supermarket_sales - sheet1].[Invoice ID].[AllMember].[633-44-8566], [Supermarket_sales - sheet1].[Invoice ID].[AllMember].[633-91-1052], [Supermarket_sales - sheet1].[Invoice ID].[AllMember].[634-97-8956], [Supermarket_sales - sheet1].[Invoice ID].[AllMember].[635-28-5728], [Supermarket_sales - sheet1].[Invoice ID].[AllMember].[635-40-6220], [Supermarket_sales - sheet1].[Invoice ID].[AllMember].[636-17-0325], [Supermarket_sales - sheet1].[Invoice ID].[AllMember].[636-48-8204], [Supermarket_sales - sheet1].[Invoice ID].[AllMember].[636-98-3364], [Supermarket_sales - sheet1].[Invoice ID].[AllMember].[638-60-7125], [Supermarket_sales - sheet1].[Invoice ID].[AllMember].[639-76-1242], [Supermarket_sales - sheet1].[Invoice ID].[AllMember].[640-48-5028], [Supermarket_sales - sheet1].[Invoice ID].[AllMember].[640-49-2076], [Supermarket_sales - sheet1].[Invoice ID].[AllMember].[641-43-2399], [Supermarket_sales - sheet1].[Invoice ID].[AllMember].[641-51-2661], [Supermarket_sales - sheet1].[Invoice ID].[AllMember].[641-62-7288], [Supermarket_sales - sheet1].[Invoice ID].[AllMember].[641-96-3695], [Supermarket_sales - sheet1].[Invoice ID].[AllMember].[642-30-6693], [Supermarket_sales - sheet1].[Invoice ID].[AllMember].[642-32-2990], [Supermarket_sales - sheet1].[Invoice ID].[AllMember].[642-61-4706], [Supermarket_sales - sheet1].[Invoice ID].[AllMember].[643-38-7867], [Supermarket_sales - sheet1].[Invoice ID].[AllMember].[645-44-1170], [Supermarket_sales - sheet1].[Invoice ID].[AllMember].[645-78-8093], [Supermarket_sales - sheet1].[Invoice ID].[AllMember].[647-50-1224], [Supermarket_sales - sheet1].[Invoice ID].[AllMember].[648-83-1321], [Supermarket_sales - sheet1].[Invoice ID].[AllMember].[648-94-3045], [Supermarket_sales - sheet1].[Invoice ID].[AllMember].[649-11-3678], [Supermarket_sales - sheet1].[Invoice ID].[AllMember].[649-29-6775], [Supermarket_sales - sheet1].[Invoice ID].[AllMember].[650-98-6268], [Supermarket_sales - sheet1].[Invoice ID].[AllMember].[651-61-0874], [Supermarket_sales - sheet1].[Invoice ID].[AllMember].[651-88-7328], [Supermarket_sales - sheet1].[Invoice ID].[AllMember].[651-96-5970], [Supermarket_sales - sheet1].[Invoice ID].[AllMember].[652-43-6591], [Supermarket_sales - sheet1].[Invoice ID].[AllMember].[652-49-6720], [Supermarket_sales - sheet1].[Invoice ID].[AllMember].[655-07-2265], [Supermarket_sales - sheet1].[Invoice ID].[AllMember].[655-85-5130], [Supermarket_sales - sheet1].[Invoice ID].[AllMember].[656-16-1063], [Supermarket_sales - sheet1].[Invoice ID].[AllMember].[656-95-9349], [Supermarket_sales - sheet1].[Invoice ID].[AllMember].[658-66-3967], [Supermarket_sales - sheet1].[Invoice ID].[AllMember].[659-36-1684], [Supermarket_sales - sheet1].[Invoice ID].[AllMember].[659-65-8956], [Supermarket_sales - sheet1].[Invoice ID].[AllMember].[660-29-7083], [Supermarket_sales - sheet1].[Invoice ID].[AllMember].[662-47-5456], [Supermarket_sales - sheet1].[Invoice ID].[AllMember].[662-72-2873], [Supermarket_sales - sheet1].[Invoice ID].[AllMember].[663-86-9076], [Supermarket_sales - sheet1].[Invoice ID].[AllMember].[664-14-2882], [Supermarket_sales - sheet1].[Invoice ID].[AllMember].[665-32-9167], [Supermarket_sales - sheet1].[Invoice ID].[AllMember].[665-63-9737], [Supermarket_sales - sheet1].[Invoice ID].[AllMember].[667-23-5919], [Supermarket_sales - sheet1].[Invoice ID].[AllMember].[667-92-0055], [Supermarket_sales - sheet1].[Invoice ID].[AllMember].[668-90-8900], [Supermarket_sales - sheet1].[Invoice ID].[AllMember].[669-54-1719], [Supermarket_sales - sheet1].[Invoice ID].[AllMember].[670-71-7306], [Supermarket_sales - sheet1].[Invoice ID].[AllMember].[670-79-6321], [Supermarket_sales - sheet1].[Invoice ID].[AllMember].[672-51-8681], [Supermarket_sales - sheet1].[Invoice ID].[AllMember].[674-15-9296], [Supermarket_sales - sheet1].[Invoice ID].[AllMember].[674-56-6360], [Supermarket_sales - sheet1].[Invoice ID].[AllMember].[676-10-2200], [Supermarket_sales - sheet1].[Invoice ID].[AllMember].[676-39-6028], [Supermarket_sales - sheet1].[Invoice ID].[AllMember].[677-11-0152], [Supermarket_sales - sheet1].[Invoice ID].[AllMember].[678-79-0726], [Supermarket_sales - sheet1].[Invoice ID].[AllMember].[679-22-6530], [Supermarket_sales - sheet1].[Invoice ID].[AllMember].[685-64-1609], [Supermarket_sales - sheet1].[Invoice ID].[AllMember].[686-41-0932], [Supermarket_sales - sheet1].[Invoice ID].[AllMember].[687-15-1097], [Supermarket_sales - sheet1].[Invoice ID].[AllMember].[687-47-8271], [Supermarket_sales - sheet1].[Invoice ID].[AllMember].[689-05-1884], [Supermarket_sales - sheet1].[Invoice ID].[AllMember].[689-16-9784], [Supermarket_sales - sheet1].[Invoice ID].[AllMember].[690-01-6631], [Supermarket_sales - sheet1].[Invoice ID].[AllMember].[692-27-8933], [Supermarket_sales - sheet1].[Invoice ID].[AllMember].[692-92-5582], [Supermarket_sales - sheet1].[Invoice ID].[AllMember].[695-09-5146], [Supermarket_sales - sheet1].[Invoice ID].[AllMember].[695-28-6250], [Supermarket_sales - sheet1].[Invoice ID].[AllMember].[695-51-0018], [Supermarket_sales - sheet1].[Invoice ID].[AllMember].[696-90-2548], [Supermarket_sales - sheet1].[Invoice ID].[AllMember].[698-98-5964], [Supermarket_sales - sheet1].[Invoice ID].[AllMember].[699-01-4164], [Supermarket_sales - sheet1].[Invoice ID].[AllMember].[699-14-3026], [Supermarket_sales - sheet1].[Invoice ID].[AllMember].[699-88-1972], [Supermarket_sales - sheet1].[Invoice ID].[AllMember].[700-81-1757], [Supermarket_sales - sheet1].[Invoice ID].[AllMember].[701-23-5550], [Supermarket_sales - sheet1].[Invoice ID].[AllMember].[701-69-8742], [Supermarket_sales - sheet1].[Invoice ID].[AllMember].[702-72-0487], [Supermarket_sales - sheet1].[Invoice ID].[AllMember].[702-83-5291], [Supermarket_sales - sheet1].[Invoice ID].[AllMember].[704-10-4056], [Supermarket_sales - sheet1].[Invoice ID].[AllMember].[704-11-6354], [Supermarket_sales - sheet1].[Invoice ID].[AllMember].[704-20-4138], [Supermarket_sales - sheet1].[Invoice ID].[AllMember].[704-48-3927], [Supermarket_sales - sheet1].[Invoice ID].[AllMember].[706-36-6154], [Supermarket_sales - sheet1].[Invoice ID].[AllMember].[707-32-7409], [Supermarket_sales - sheet1].[Invoice ID].[AllMember].[709-58-4068], [Supermarket_sales - sheet1].[Invoice ID].[AllMember].[710-46-4433], [Supermarket_sales - sheet1].[Invoice ID].[AllMember].[711-31-1234], [Supermarket_sales - sheet1].[Invoice ID].[AllMember].[712-39-0363], [Supermarket_sales - sheet1].[Invoice ID].[AllMember].[714-02-3114], [Supermarket_sales - sheet1].[Invoice ID].[AllMember].[715-20-1673], [Supermarket_sales - sheet1].[Invoice ID].[AllMember].[716-39-1409], [Supermarket_sales - sheet1].[Invoice ID].[AllMember].[717-96-4189], [Supermarket_sales - sheet1].[Invoice ID].[AllMember].[718-57-9773], [Supermarket_sales - sheet1].[Invoice ID].[AllMember].[719-76-3868], [Supermarket_sales - sheet1].[Invoice ID].[AllMember].[719-89-8991], [Supermarket_sales - sheet1].[Invoice ID].[AllMember].[720-72-2436], [Supermarket_sales - sheet1].[Invoice ID].[AllMember].[721-86-6247], [Supermarket_sales - sheet1].[Invoice ID].[AllMember].[722-13-2115], [Supermarket_sales - sheet1].[Invoice ID].[AllMember].[725-32-9708], [Supermarket_sales - sheet1].[Invoice ID].[AllMember].[725-54-0677], [Supermarket_sales - sheet1].[Invoice ID].[AllMember].[725-56-0833], [Supermarket_sales - sheet1].[Invoice ID].[AllMember].[725-67-2480], [Supermarket_sales - sheet1].[Invoice ID].[AllMember].[725-96-3778], [Supermarket_sales - sheet1].[Invoice ID].[AllMember].[726-27-2396], [Supermarket_sales - sheet1].[Invoice ID].[AllMember].[726-29-6793], [Supermarket_sales - sheet1].[Invoice ID].[AllMember].[727-02-1313], [Supermarket_sales - sheet1].[Invoice ID].[AllMember].[727-17-0390], [Supermarket_sales - sheet1].[Invoice ID].[AllMember].[727-46-3608], [Supermarket_sales - sheet1].[Invoice ID].[AllMember].[727-75-6477], [Supermarket_sales - sheet1].[Invoice ID].[AllMember].[728-47-9078], [Supermarket_sales - sheet1].[Invoice ID].[AllMember].[728-88-7867], [Supermarket_sales - sheet1].[Invoice ID].[AllMember].[729-06-2010], [Supermarket_sales - sheet1].[Invoice ID].[AllMember].[729-09-9681], [Supermarket_sales - sheet1].[Invoice ID].[AllMember].[729-46-7422], [Supermarket_sales - sheet1].[Invoice ID].[AllMember].[730-50-9884], [Supermarket_sales - sheet1].[Invoice ID].[AllMember].[730-61-8757], [Supermarket_sales - sheet1].[Invoice ID].[AllMember].[730-70-9830], [Supermarket_sales - sheet1].[Invoice ID].[AllMember].[731-14-2199], [Supermarket_sales - sheet1].[Invoice ID].[AllMember].[731-59-7531], [Supermarket_sales - sheet1].[Invoice ID].[AllMember].[731-81-9469], [Supermarket_sales - sheet1].[Invoice ID].[AllMember].[732-04-5373], [Supermarket_sales - sheet1].[Invoice ID].[AllMember].[732-67-5346], [Supermarket_sales - sheet1].[Invoice ID].[AllMember].[732-94-0499], [Supermarket_sales - sheet1].[Invoice ID].[AllMember].[733-01-9107], [Supermarket_sales - sheet1].[Invoice ID].[AllMember].[733-29-1227], [Supermarket_sales - sheet1].[Invoice ID].[AllMember].[733-33-4967], [Supermarket_sales - sheet1].[Invoice ID].[AllMember].[734-91-1155], [Supermarket_sales - sheet1].[Invoice ID].[AllMember].[735-06-4124], [Supermarket_sales - sheet1].[Invoice ID].[AllMember].[735-32-9839], [Supermarket_sales - sheet1].[Invoice ID].[AllMember].[737-88-5876], [Supermarket_sales - sheet1].[Invoice ID].[AllMember].[740-11-5257], [Supermarket_sales - sheet1].[Invoice ID].[AllMember].[740-22-2500], [Supermarket_sales - sheet1].[Invoice ID].[AllMember].[741-73-3559], [Supermarket_sales - sheet1].[Invoice ID].[AllMember].[742-04-5161], [Supermarket_sales - sheet1].[Invoice ID].[AllMember].[743-04-1105], [Supermarket_sales - sheet1].[Invoice ID].[AllMember].[743-88-1662], [Supermarket_sales - sheet1].[Invoice ID].[AllMember].[744-02-5987], [Supermarket_sales - sheet1].[Invoice ID].[AllMember].[744-09-5786], [Supermarket_sales - sheet1].[Invoice ID].[AllMember].[744-16-7898], [Supermarket_sales - sheet1].[Invoice ID].[AllMember].[744-82-9138], [Supermarket_sales - sheet1].[Invoice ID].[AllMember].[745-71-3520], [Supermarket_sales - sheet1].[Invoice ID].[AllMember].[745-74-0715], [Supermarket_sales - sheet1].[Invoice ID].[AllMember].[746-04-1077], [Supermarket_sales - sheet1].[Invoice ID].[AllMember].[746-19-0921], [Supermarket_sales - sheet1].[Invoice ID].[AllMember].[746-54-5508], [Supermarket_sales - sheet1].[Invoice ID].[AllMember].[746-68-6593], [Supermarket_sales - sheet1].[Invoice ID].[AllMember].[746-94-0204], [Supermarket_sales - sheet1].[Invoice ID].[AllMember].[747-58-7183], [Supermarket_sales - sheet1].[Invoice ID].[AllMember].[748-45-2862], [Supermarket_sales - sheet1].[Invoice ID].[AllMember].[749-24-1565], [Supermarket_sales - sheet1].[Invoice ID].[AllMember].[749-81-8133], [Supermarket_sales - sheet1].[Invoice ID].[AllMember].[750-57-9686], [Supermarket_sales - sheet1].[Invoice ID].[AllMember].[750-67-8428], [Supermarket_sales - sheet1].[Invoice ID].[AllMember].[751-15-6198], [Supermarket_sales - sheet1].[Invoice ID].[AllMember].[751-41-9720], [Supermarket_sales - sheet1].[Invoice ID].[AllMember].[751-69-0068], [Supermarket_sales - sheet1].[Invoice ID].[AllMember].[752-23-3760], [Supermarket_sales - sheet1].[Invoice ID].[AllMember].[755-12-3214], [Supermarket_sales - sheet1].[Invoice ID].[AllMember].[756-01-7507], [Supermarket_sales - sheet1].[Invoice ID].[AllMember].[756-49-0168], [Supermarket_sales - sheet1].[Invoice ID].[AllMember].[756-93-1854], [Supermarket_sales - sheet1].[Invoice ID].[AllMember].[759-29-9521], [Supermarket_sales - sheet1].[Invoice ID].[AllMember].[759-98-4285], [Supermarket_sales - sheet1].[Invoice ID].[AllMember].[760-27-5490], [Supermarket_sales - sheet1].[Invoice ID].[AllMember].[760-53-9233], [Supermarket_sales - sheet1].[Invoice ID].[AllMember].[760-54-1821], [Supermarket_sales - sheet1].[Invoice ID].[AllMember].[760-90-2357], [Supermarket_sales - sheet1].[Invoice ID].[AllMember].[761-49-0439], [Supermarket_sales - sheet1].[Invoice ID].[AllMember].[764-44-8999], [Supermarket_sales - sheet1].[Invoice ID].[AllMember].[765-26-6951], [Supermarket_sales - sheet1].[Invoice ID].[AllMember].[766-85-7061], [Supermarket_sales - sheet1].[Invoice ID].[AllMember].[767-05-1286], [Supermarket_sales - sheet1].[Invoice ID].[AllMember].[767-54-1907], [Supermarket_sales - sheet1].[Invoice ID].[AllMember].[767-97-4650], [Supermarket_sales - sheet1].[Invoice ID].[AllMember].[770-42-8960], [Supermarket_sales - sheet1].[Invoice ID].[AllMember].[775-72-1988], [Supermarket_sales - sheet1].[Invoice ID].[AllMember].[776-68-1096], [Supermarket_sales - sheet1].[Invoice ID].[AllMember].[777-67-2495], [Supermarket_sales - sheet1].[Invoice ID].[AllMember].[777-82-7220], [Supermarket_sales - sheet1].[Invoice ID].[AllMember].[778-34-2523], [Supermarket_sales - sheet1].[Invoice ID].[AllMember].[778-71-5554], [Supermarket_sales - sheet1].[Invoice ID].[AllMember].[778-89-7974], [Supermarket_sales - sheet1].[Invoice ID].[AllMember].[779-06-0012], [Supermarket_sales - sheet1].[Invoice ID].[AllMember].[779-42-2410], [Supermarket_sales - sheet1].[Invoice ID].[AllMember].[781-84-8059], [Supermarket_sales - sheet1].[Invoice ID].[AllMember].[782-95-9291], [Supermarket_sales - sheet1].[Invoice ID].[AllMember].[783-09-1637], [Supermarket_sales - sheet1].[Invoice ID].[AllMember].[784-08-0310], [Supermarket_sales - sheet1].[Invoice ID].[AllMember].[784-21-9238], [Supermarket_sales - sheet1].[Invoice ID].[AllMember].[785-13-7708], [Supermarket_sales - sheet1].[Invoice ID].[AllMember].[785-96-0615], [Supermarket_sales - sheet1].[Invoice ID].[AllMember].[786-94-2700], [Supermarket_sales - sheet1].[Invoice ID].[AllMember].[787-15-1757], [Supermarket_sales - sheet1].[Invoice ID].[AllMember].[787-56-0757], [Supermarket_sales - sheet1].[Invoice ID].[AllMember].[787-87-2010], [Supermarket_sales - sheet1].[Invoice ID].[AllMember].[788-07-8452], [Supermarket_sales - sheet1].[Invoice ID].[AllMember].[788-21-5741], [Supermarket_sales - sheet1].[Invoice ID].[AllMember].[789-23-8625], [Supermarket_sales - sheet1].[Invoice ID].[AllMember].[790-29-1172], [Supermarket_sales - sheet1].[Invoice ID].[AllMember].[790-38-4466], [Supermarket_sales - sheet1].[Invoice ID].[AllMember].[793-10-3222], [Supermarket_sales - sheet1].[Invoice ID].[AllMember].[794-32-2436], [Supermarket_sales - sheet1].[Invoice ID].[AllMember].[794-42-3736], [Supermarket_sales - sheet1].[Invoice ID].[AllMember].[795-49-7276], [Supermarket_sales - sheet1].[Invoice ID].[AllMember].[796-12-2025], [Supermarket_sales - sheet1].[Invoice ID].[AllMember].[796-32-9050], [Supermarket_sales - sheet1].[Invoice ID].[AllMember].[797-88-0493], [Supermarket_sales - sheet1].[Invoice ID].[AllMember].[799-71-1548], [Supermarket_sales - sheet1].[Invoice ID].[AllMember].[800-09-8606], [Supermarket_sales - sheet1].[Invoice ID].[AllMember].[801-88-0346], [Supermarket_sales - sheet1].[Invoice ID].[AllMember].[802-43-8934], [Supermarket_sales - sheet1].[Invoice ID].[AllMember].[802-70-5316], [Supermarket_sales - sheet1].[Invoice ID].[AllMember].[803-17-8013], [Supermarket_sales - sheet1].[Invoice ID].[AllMember].[803-83-5989], [Supermarket_sales - sheet1].[Invoice ID].[AllMember].[804-38-3935], [Supermarket_sales - sheet1].[Invoice ID].[AllMember].[805-86-0265], [Supermarket_sales - sheet1].[Invoice ID].[AllMember].[807-14-7833], [Supermarket_sales - sheet1].[Invoice ID].[AllMember].[807-34-3742], [Supermarket_sales - sheet1].[Invoice ID].[AllMember].[808-65-0703], [Supermarket_sales - sheet1].[Invoice ID].[AllMember].[809-46-1866], [Supermarket_sales - sheet1].[Invoice ID].[AllMember].[809-69-9497], [Supermarket_sales - sheet1].[Invoice ID].[AllMember].[810-60-6344], [Supermarket_sales - sheet1].[Invoice ID].[AllMember].[811-03-8790], [Supermarket_sales - sheet1].[Invoice ID].[AllMember].[811-35-1094], [Supermarket_sales - sheet1].[Invoice ID].[AllMember].[815-04-6282], [Supermarket_sales - sheet1].[Invoice ID].[AllMember].[815-11-1168], [Supermarket_sales - sheet1].[Invoice ID].[AllMember].[816-57-2053], [Supermarket_sales - sheet1].[Invoice ID].[AllMember].[816-72-8853], [Supermarket_sales - sheet1].[Invoice ID].[AllMember].[817-48-8732], [Supermarket_sales - sheet1].[Invoice ID].[AllMember].[817-69-8206], [Supermarket_sales - sheet1].[Invoice ID].[AllMember].[821-07-3596], [Supermarket_sales - sheet1].[Invoice ID].[AllMember].[821-14-9046], [Supermarket_sales - sheet1].[Invoice ID].[AllMember].[824-88-3614], [Supermarket_sales - sheet1].[Invoice ID].[AllMember].[825-94-5922], [Supermarket_sales - sheet1].[Invoice ID].[AllMember].[826-58-8051], [Supermarket_sales - sheet1].[Invoice ID].[AllMember].[827-26-2100], [Supermarket_sales - sheet1].[Invoice ID].[AllMember].[827-44-5872], [Supermarket_sales - sheet1].[Invoice ID].[AllMember].[827-77-7633], [Supermarket_sales - sheet1].[Invoice ID].[AllMember].[828-46-6863], [Supermarket_sales - sheet1].[Invoice ID].[AllMember].[828-61-5674], [Supermarket_sales - sheet1].[Invoice ID].[AllMember].[829-34-3910], [Supermarket_sales - sheet1].[Invoice ID].[AllMember].[829-49-1914], [Supermarket_sales - sheet1].[Invoice ID].[AllMember].[830-58-2383], [Supermarket_sales - sheet1].[Invoice ID].[AllMember].[831-07-6050], [Supermarket_sales - sheet1].[Invoice ID].[AllMember].[831-64-0259], [Supermarket_sales - sheet1].[Invoice ID].[AllMember].[831-81-6575], [Supermarket_sales - sheet1].[Invoice ID].[AllMember].[832-51-6761], [Supermarket_sales - sheet1].[Invoice ID].[AllMember].[834-25-9262], [Supermarket_sales - sheet1].[Invoice ID].[AllMember].[834-45-5519], [Supermarket_sales - sheet1].[Invoice ID].[AllMember].[834-61-8124], [Supermarket_sales - sheet1].[Invoice ID].[AllMember].[834-83-1826], [Supermarket_sales - sheet1].[Invoice ID].[AllMember].[835-16-0096], [Supermarket_sales - sheet1].[Invoice ID].[AllMember].[836-82-5858], [Supermarket_sales - sheet1].[Invoice ID].[AllMember].[837-55-7229], [Supermarket_sales - sheet1].[Invoice ID].[AllMember].[838-02-1821], [Supermarket_sales - sheet1].[Invoice ID].[AllMember].[838-78-4295], [Supermarket_sales - sheet1].[Invoice ID].[AllMember].[840-19-2096], [Supermarket_sales - sheet1].[Invoice ID].[AllMember].[840-76-5966], [Supermarket_sales - sheet1].[Invoice ID].[AllMember].[841-18-8232], [Supermarket_sales - sheet1].[Invoice ID].[AllMember].[841-35-6630], [Supermarket_sales - sheet1].[Invoice ID].[AllMember].[842-29-4695], [Supermarket_sales - sheet1].[Invoice ID].[AllMember].[842-40-8179], [Supermarket_sales - sheet1].[Invoice ID].[AllMember].[843-01-4703], [Supermarket_sales - sheet1].[Invoice ID].[AllMember].[843-73-4724], [Supermarket_sales - sheet1].[Invoice ID].[AllMember].[845-51-0542], [Supermarket_sales - sheet1].[Invoice ID].[AllMember].[845-94-6841], [Supermarket_sales - sheet1].[Invoice ID].[AllMember].[846-10-0341], [Supermarket_sales - sheet1].[Invoice ID].[AllMember].[847-38-7188], [Supermarket_sales - sheet1].[Invoice ID].[AllMember].[848-07-1692], [Supermarket_sales - sheet1].[Invoice ID].[AllMember].[848-24-9445], [Supermarket_sales - sheet1].[Invoice ID].[AllMember].[848-42-2560], [Supermarket_sales - sheet1].[Invoice ID].[AllMember].[848-62-7243], [Supermarket_sales - sheet1].[Invoice ID].[AllMember].[848-95-6252], [Supermarket_sales - sheet1].[Invoice ID].[AllMember].[849-09-3807], [Supermarket_sales - sheet1].[Invoice ID].[AllMember].[850-41-9669], [Supermarket_sales - sheet1].[Invoice ID].[AllMember].[851-28-6367], [Supermarket_sales - sheet1].[Invoice ID].[AllMember].[851-98-3555], [Supermarket_sales - sheet1].[Invoice ID].[AllMember].[852-62-7105], [Supermarket_sales - sheet1].[Invoice ID].[AllMember].[852-82-2749], [Supermarket_sales - sheet1].[Invoice ID].[AllMember].[853-23-2453], [Supermarket_sales - sheet1].[Invoice ID].[AllMember].[856-22-8149], [Supermarket_sales - sheet1].[Invoice ID].[AllMember].[856-66-2701], [Supermarket_sales - sheet1].[Invoice ID].[AllMember].[857-16-3520], [Supermarket_sales - sheet1].[Invoice ID].[AllMember].[857-67-9057], [Supermarket_sales - sheet1].[Invoice ID].[AllMember].[859-71-0933], [Supermarket_sales - sheet1].[Invoice ID].[AllMember].[859-97-6048], [Supermarket_sales - sheet1].[Invoice ID].[AllMember].[860-73-6466], [Supermarket_sales - sheet1].[Invoice ID].[AllMember].[860-79-0874], [Supermarket_sales - sheet1].[Invoice ID].[AllMember].[861-77-0145], [Supermarket_sales - sheet1].[Invoice ID].[AllMember].[862-17-9201], [Supermarket_sales - sheet1].[Invoice ID].[AllMember].[862-29-5914], [Supermarket_sales - sheet1].[Invoice ID].[AllMember].[862-59-8517], [Supermarket_sales - sheet1].[Invoice ID].[AllMember].[864-24-7918], [Supermarket_sales - sheet1].[Invoice ID].[AllMember].[865-41-9075], [Supermarket_sales - sheet1].[Invoice ID].[AllMember].[865-92-6136], [Supermarket_sales - sheet1].[Invoice ID].[AllMember].[866-05-7563], [Supermarket_sales - sheet1].[Invoice ID].[AllMember].[866-70-2814], [Supermarket_sales - sheet1].[Invoice ID].[AllMember].[866-99-7614], [Supermarket_sales - sheet1].[Invoice ID].[AllMember].[867-47-1948], [Supermarket_sales - sheet1].[Invoice ID].[AllMember].[868-06-0466], [Supermarket_sales - sheet1].[Invoice ID].[AllMember].[868-52-7573], [Supermarket_sales - sheet1].[Invoice ID].[AllMember].[868-81-1752], [Supermarket_sales - sheet1].[Invoice ID].[AllMember].[869-11-3082], [Supermarket_sales - sheet1].[Invoice ID].[AllMember].[870-54-3162], [Supermarket_sales - sheet1].[Invoice ID].[AllMember].[870-72-4431], [Supermarket_sales - sheet1].[Invoice ID].[AllMember].[870-76-1733], [Supermarket_sales - sheet1].[Invoice ID].[AllMember].[871-39-9221], [Supermarket_sales - sheet1].[Invoice ID].[AllMember].[871-79-8483], [Supermarket_sales - sheet1].[Invoice ID].[AllMember].[873-14-6353], [Supermarket_sales - sheet1].[Invoice ID].[AllMember].[873-51-0671], [Supermarket_sales - sheet1].[Invoice ID].[AllMember].[873-95-4984], [Supermarket_sales - sheet1].[Invoice ID].[AllMember].[875-31-8302], [Supermarket_sales - sheet1].[Invoice ID].[AllMember].[875-46-5808], [Supermarket_sales - sheet1].[Invoice ID].[AllMember].[877-22-3308], [Supermarket_sales - sheet1].[Invoice ID].[AllMember].[878-30-2331], [Supermarket_sales - sheet1].[Invoice ID].[AllMember].[880-35-0356], [Supermarket_sales - sheet1].[Invoice ID].[AllMember].[880-46-5796], [Supermarket_sales - sheet1].[Invoice ID].[AllMember].[881-41-7302], [Supermarket_sales - sheet1].[Invoice ID].[AllMember].[882-40-4577], [Supermarket_sales - sheet1].[Invoice ID].[AllMember].[883-17-4236], [Supermarket_sales - sheet1].[Invoice ID].[AllMember].[883-69-1285], [Supermarket_sales - sheet1].[Invoice ID].[AllMember].[884-80-6021], [Supermarket_sales - sheet1].[Invoice ID].[AllMember].[885-17-6250], [Supermarket_sales - sheet1].[Invoice ID].[AllMember].[885-56-0389], [Supermarket_sales - sheet1].[Invoice ID].[AllMember].[886-18-2897], [Supermarket_sales - sheet1].[Invoice ID].[AllMember].[886-54-6089], [Supermarket_sales - sheet1].[Invoice ID].[AllMember].[886-77-9084], [Supermarket_sales - sheet1].[Invoice ID].[AllMember].[887-42-0517], [Supermarket_sales - sheet1].[Invoice ID].[AllMember].[888-02-0338], [Supermarket_sales - sheet1].[Invoice ID].[AllMember].[889-04-9723], [Supermarket_sales - sheet1].[Invoice ID].[AllMember].[891-01-7034], [Supermarket_sales - sheet1].[Invoice ID].[AllMember].[891-58-8335], [Supermarket_sales - sheet1].[Invoice ID].[AllMember].[892-05-6689], [Supermarket_sales - sheet1].[Invoice ID].[AllMember].[894-41-5205], [Supermarket_sales - sheet1].[Invoice ID].[AllMember].[895-03-6665], [Supermarket_sales - sheet1].[Invoice ID].[AllMember].[895-66-0685], [Supermarket_sales - sheet1].[Invoice ID].[AllMember].[896-34-0956], [Supermarket_sales - sheet1].[Invoice ID].[AllMember].[898-04-2717], [Supermarket_sales - sheet1].[Invoice ID].[AllMember].[176-78-1170]}",
       "{[Supermarket_sales - sheet1].[Product line].[AllMember].[Electronic accessories], [Supermarket_sales - sheet1].[Product line].[AllMember].[Fashion accessories], [Supermarket_sales - sheet1].[Product line].[AllMember].[Food and beverages], [Supermarket_sales - sheet1].[Product line].[AllMember].[Health and beauty], [Supermarket_sales - sheet1].[Product line].[AllMember].[Home and lifestyle], [Supermarket_sales - sheet1].[Product line].[AllMember].[Sports and travel]}",
       "{[Supermarket_sales - sheet1].[Customer type].[AllMember].[Normal], [Supermarket_sales - sheet1].[Customer type].[AllMember].[Member]}"
      ],
      "mapping": {
       "horizontalSubplots": [],
       "splitBy": [
        "ALL_MEASURES"
       ],
       "values": [
        "[Measures].[Total.SUM]"
       ],
       "verticalSubplots": [],
       "xAxis": [
        "[Supermarket_sales - sheet1].[Gender].[Gender]",
        "[Supermarket_sales - sheet1].[Product line].[Product line]",
        "[Supermarket_sales - sheet1].[Customer type].[Customer type]"
       ]
      },
      "query": {
       "mdx": "SELECT NON EMPTY {[Measures].[Total.SUM]} ON COLUMNS, NON EMPTY Crossjoin(Hierarchize(Descendants({[Supermarket_sales - sheet1].[Gender].[AllMember]}, 1, SELF_AND_BEFORE)), Hierarchize(Descendants({[Supermarket_sales - sheet1].[Product line].[AllMember]}, 1, SELF_AND_BEFORE)), Hierarchize(Descendants({[Supermarket_sales - sheet1].[Customer type].[AllMember]}, 1, SELF_AND_BEFORE))) ON ROWS FROM [Supermarket_sales - sheet1]",
       "updateMode": "once"
      },
      "serverKey": "default",
      "widgetKey": "plotly-line-chart"
     }
    },
    "tags": []
   },
   "outputs": [],
   "source": [
    "session.visualize()"
   ]
  },
  {
   "cell_type": "code",
   "execution_count": 16,
   "metadata": {},
   "outputs": [
    {
     "data": {
      "text/plain": [
       "'http://localhost:61126'"
      ]
     },
     "execution_count": 16,
     "metadata": {},
     "output_type": "execute_result"
    }
   ],
   "source": [
    "session.url"
   ]
  },
  {
   "cell_type": "code",
   "execution_count": null,
   "metadata": {},
   "outputs": [],
   "source": []
  },
  {
   "cell_type": "code",
   "execution_count": null,
   "metadata": {},
   "outputs": [],
   "source": []
  }
 ],
 "metadata": {
  "kernelspec": {
   "display_name": "Python 3",
   "language": "python",
   "name": "python3"
  },
  "language_info": {
   "codemirror_mode": {
    "name": "ipython",
    "version": 3
   },
   "file_extension": ".py",
   "mimetype": "text/x-python",
   "name": "python",
   "nbconvert_exporter": "python",
   "pygments_lexer": "ipython3",
   "version": "3.8.3"
  }
 },
 "nbformat": 4,
 "nbformat_minor": 4
}
